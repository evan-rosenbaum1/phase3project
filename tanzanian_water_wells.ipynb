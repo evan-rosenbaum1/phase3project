{
 "cells": [
  {
   "cell_type": "code",
   "execution_count": 1,
   "metadata": {},
   "outputs": [],
   "source": [
    "from custom_class import CustomCrossValidator\n",
    "from tools import *\n",
    "\n",
    "import pandas as pd\n",
    "import numpy as np\n",
    "import seaborn as sns\n",
    "import matplotlib.pyplot as plt\n",
    "\n",
    "from sklearn.linear_model import LogisticRegression\n",
    "from sklearn.linear_model import Lasso\n",
    "from sklearn.model_selection import train_test_split\n",
    "\n",
    "from sklearn.feature_selection import RFE, VarianceThreshold\n",
    "\n",
    "from sklearn.preprocessing import StandardScaler, OneHotEncoder, LabelEncoder\n",
    "from sklearn.model_selection import cross_val_score\n",
    "from sklearn.tree import DecisionTreeClassifier\n",
    "from statsmodels.stats.outliers_influence import variance_inflation_factor"
   ]
  },
  {
   "cell_type": "code",
   "execution_count": 2,
   "metadata": {},
   "outputs": [],
   "source": [
    "# Import the split data set\n",
    "target_df = pd.read_csv(\"data/target_columns.csv\")\n",
    "independent_df = pd.read_csv(\"data/independent_columns.csv\")"
   ]
  },
  {
   "cell_type": "code",
   "execution_count": 3,
   "metadata": {},
   "outputs": [],
   "source": [
    "# Joining the data sets\n",
    "wells_df = pd.merge(target_df, independent_df, on='id', how='inner')"
   ]
  },
  {
   "cell_type": "code",
   "execution_count": 4,
   "metadata": {},
   "outputs": [],
   "source": [
    "# Standardize categorical variables\n",
    "wells_df = wells_df.applymap(lambda x: x.lower() if isinstance(x, str) else x)"
   ]
  },
  {
   "cell_type": "code",
   "execution_count": 5,
   "metadata": {},
   "outputs": [],
   "source": [
    "# Convert boolean values to strings\n",
    "wells_df = wells_df.applymap(lambda x: str(x) if isinstance(x, bool) else x)"
   ]
  },
  {
   "cell_type": "code",
   "execution_count": 6,
   "metadata": {},
   "outputs": [],
   "source": [
    "# Standardize missing values to NaN\n",
    "missing_values = ['', ' ', 'na', 'n/a', 'unknown', 'other', 'none']\n",
    "wells_df.replace(missing_values, np.nan, inplace=True)"
   ]
  },
  {
   "cell_type": "code",
   "execution_count": 7,
   "metadata": {},
   "outputs": [],
   "source": [
    "# Set 'id' as the index of the DataFrame\n",
    "wells_df.set_index('id', inplace=True)"
   ]
  },
  {
   "cell_type": "code",
   "execution_count": 8,
   "metadata": {},
   "outputs": [
    {
     "name": "stdout",
     "output_type": "stream",
     "text": [
      "<class 'pandas.core.frame.DataFrame'>\n",
      "Int64Index: 59400 entries, 69572 to 26348\n",
      "Data columns (total 40 columns):\n",
      " #   Column                 Non-Null Count  Dtype  \n",
      "---  ------                 --------------  -----  \n",
      " 0   status_group           59400 non-null  object \n",
      " 1   amount_tsh             59400 non-null  float64\n",
      " 2   date_recorded          59400 non-null  object \n",
      " 3   funder                 55759 non-null  object \n",
      " 4   gps_height             59400 non-null  int64  \n",
      " 5   installer              55741 non-null  object \n",
      " 6   longitude              59400 non-null  float64\n",
      " 7   latitude               59400 non-null  float64\n",
      " 8   wpt_name               55832 non-null  object \n",
      " 9   num_private            59400 non-null  int64  \n",
      " 10  basin                  59400 non-null  object \n",
      " 11  subvillage             59029 non-null  object \n",
      " 12  region                 59400 non-null  object \n",
      " 13  region_code            59400 non-null  int64  \n",
      " 14  district_code          59400 non-null  int64  \n",
      " 15  lga                    59400 non-null  object \n",
      " 16  ward                   59400 non-null  object \n",
      " 17  population             59400 non-null  int64  \n",
      " 18  public_meeting         56066 non-null  object \n",
      " 19  recorded_by            59400 non-null  object \n",
      " 20  scheme_management      54756 non-null  object \n",
      " 21  scheme_name            30565 non-null  object \n",
      " 22  permit                 56344 non-null  object \n",
      " 23  construction_year      59400 non-null  int64  \n",
      " 24  extraction_type        52970 non-null  object \n",
      " 25  extraction_type_group  52970 non-null  object \n",
      " 26  extraction_type_class  52970 non-null  object \n",
      " 27  management             57995 non-null  object \n",
      " 28  management_group       57896 non-null  object \n",
      " 29  payment                50189 non-null  object \n",
      " 30  payment_type           50189 non-null  object \n",
      " 31  water_quality          57524 non-null  object \n",
      " 32  quality_group          57524 non-null  object \n",
      " 33  quantity               58611 non-null  object \n",
      " 34  quantity_group         58611 non-null  object \n",
      " 35  source                 59122 non-null  object \n",
      " 36  source_type            59122 non-null  object \n",
      " 37  source_class           59122 non-null  object \n",
      " 38  waterpoint_type        53020 non-null  object \n",
      " 39  waterpoint_type_group  53020 non-null  object \n",
      "dtypes: float64(3), int64(6), object(31)\n",
      "memory usage: 18.6+ MB\n"
     ]
    }
   ],
   "source": [
    "wells_df.info()"
   ]
  },
  {
   "cell_type": "markdown",
   "metadata": {},
   "source": [
    "## Target Variable Investigation"
   ]
  },
  {
   "cell_type": "code",
   "execution_count": 9,
   "metadata": {},
   "outputs": [
    {
     "data": {
      "text/plain": [
       "functional                 0.543081\n",
       "non functional             0.384242\n",
       "functional needs repair    0.072677\n",
       "Name: status_group, dtype: float64"
      ]
     },
     "execution_count": 9,
     "metadata": {},
     "output_type": "execute_result"
    }
   ],
   "source": [
    "wells_df['status_group'].value_counts(normalize=True)"
   ]
  },
  {
   "cell_type": "markdown",
   "metadata": {},
   "source": [
    "There is a class imbalance between the three classes inside of the target variable. We will need to handle this through by either oversampling or SMOTE'ing to bring the minority class in proportion with the majority class.\n",
    "\n",
    "Given the small proportion of the 'function needs repair' class we will combine the 'functional needs repair' and 'non functional' class together to create the new class 'needs attention'. Then we will cast the 'functional' class of wells as 'does not need attention'. "
   ]
  },
  {
   "cell_type": "code",
   "execution_count": 10,
   "metadata": {},
   "outputs": [],
   "source": [
    "# Define the mapping of the new labels\n",
    "label_mapping = {\n",
    "    'functional': 0,\n",
    "    'non functional': 1,\n",
    "    'functional needs repair': 1\n",
    "}\n",
    "\n",
    "# Replace the values in the 'status_group' column\n",
    "wells_df['status_group'] = wells_df['status_group'].replace(label_mapping)"
   ]
  },
  {
   "cell_type": "code",
   "execution_count": 11,
   "metadata": {},
   "outputs": [
    {
     "data": {
      "text/plain": [
       "0    0.543081\n",
       "1    0.456919\n",
       "Name: status_group, dtype: float64"
      ]
     },
     "execution_count": 11,
     "metadata": {},
     "output_type": "execute_result"
    }
   ],
   "source": [
    "wells_df['status_group'].value_counts(normalize=True)"
   ]
  },
  {
   "cell_type": "markdown",
   "metadata": {},
   "source": [
    "# Data Cleaning"
   ]
  },
  {
   "cell_type": "markdown",
   "metadata": {},
   "source": [
    "## Amount TSH: Illogical Values"
   ]
  },
  {
   "cell_type": "code",
   "execution_count": 12,
   "metadata": {},
   "outputs": [
    {
     "data": {
      "text/plain": [
       "117000.0    7\n",
       "50000.0     4\n",
       "100000.0    3\n",
       "250000.0    1\n",
       "138000.0    1\n",
       "70000.0     1\n",
       "350000.0    1\n",
       "60000.0     1\n",
       "170000.0    1\n",
       "200000.0    1\n",
       "120000.0    1\n",
       "Name: amount_tsh, dtype: int64"
      ]
     },
     "execution_count": 12,
     "metadata": {},
     "output_type": "execute_result"
    }
   ],
   "source": [
    "filtered_df = wells_df[wells_df['amount_tsh'] >= 50000]\n",
    "\n",
    "filtered_df['amount_tsh'].value_counts()"
   ]
  },
  {
   "cell_type": "markdown",
   "metadata": {},
   "source": [
    "Most total static head measurements are in the range of hundreds to tens of thousands.\n",
    "\n",
    "Depths exceeding 50,000 units (e.g., feet or meters) are rare or unusual so we will filter these out as they are outliers. \n",
    "\n",
    "Most residential wells range from a few meters to around 100 meters (10 to 300 feet).\n",
    "\n",
    "Wells used for industrial or agricultural purposes may have deeper total static heads, often ranging from tens to several hundred meters (hundreds to thousands of feet). "
   ]
  },
  {
   "cell_type": "code",
   "execution_count": 13,
   "metadata": {},
   "outputs": [],
   "source": [
    "wells_df = wells_df[wells_df['amount_tsh'] <= 50000]"
   ]
  },
  {
   "cell_type": "markdown",
   "metadata": {},
   "source": [
    "## Longitude and Latitude: Zero Value Coordinates"
   ]
  },
  {
   "cell_type": "code",
   "execution_count": 14,
   "metadata": {},
   "outputs": [
    {
     "data": {
      "text/plain": [
       "0.000000     1812\n",
       "37.252194       2\n",
       "37.297680       2\n",
       "33.010510       2\n",
       "39.093484       2\n",
       "             ... \n",
       "36.871976       1\n",
       "37.579803       1\n",
       "33.196490       1\n",
       "34.017119       1\n",
       "30.163579       1\n",
       "Name: longitude, Length: 57498, dtype: int64"
      ]
     },
     "execution_count": 14,
     "metadata": {},
     "output_type": "execute_result"
    }
   ],
   "source": [
    "wells_df['longitude'].value_counts()"
   ]
  },
  {
   "cell_type": "code",
   "execution_count": 15,
   "metadata": {},
   "outputs": [
    {
     "data": {
      "text/plain": [
       "-2.000000e-08    1812\n",
       "-7.104923e+00       2\n",
       "-6.964258e+00       2\n",
       "-6.963565e+00       2\n",
       "-7.056372e+00       2\n",
       "                 ... \n",
       "-3.411358e+00       1\n",
       "-8.958207e+00       1\n",
       "-3.261113e+00       1\n",
       "-5.435762e+00       1\n",
       "-2.598965e+00       1\n",
       "Name: latitude, Length: 57499, dtype: int64"
      ]
     },
     "execution_count": 15,
     "metadata": {},
     "output_type": "execute_result"
    }
   ],
   "source": [
    "wells_df['latitude'].value_counts()"
   ]
  },
  {
   "cell_type": "code",
   "execution_count": 16,
   "metadata": {},
   "outputs": [
    {
     "name": "stdout",
     "output_type": "stream",
     "text": [
      "1812\n"
     ]
    },
    {
     "data": {
      "text/html": [
       "<div>\n",
       "<style scoped>\n",
       "    .dataframe tbody tr th:only-of-type {\n",
       "        vertical-align: middle;\n",
       "    }\n",
       "\n",
       "    .dataframe tbody tr th {\n",
       "        vertical-align: top;\n",
       "    }\n",
       "\n",
       "    .dataframe thead th {\n",
       "        text-align: right;\n",
       "    }\n",
       "</style>\n",
       "<table border=\"1\" class=\"dataframe\">\n",
       "  <thead>\n",
       "    <tr style=\"text-align: right;\">\n",
       "      <th></th>\n",
       "      <th>status_group</th>\n",
       "      <th>amount_tsh</th>\n",
       "      <th>date_recorded</th>\n",
       "      <th>funder</th>\n",
       "      <th>gps_height</th>\n",
       "      <th>installer</th>\n",
       "      <th>longitude</th>\n",
       "      <th>latitude</th>\n",
       "      <th>wpt_name</th>\n",
       "      <th>num_private</th>\n",
       "      <th>...</th>\n",
       "      <th>payment_type</th>\n",
       "      <th>water_quality</th>\n",
       "      <th>quality_group</th>\n",
       "      <th>quantity</th>\n",
       "      <th>quantity_group</th>\n",
       "      <th>source</th>\n",
       "      <th>source_type</th>\n",
       "      <th>source_class</th>\n",
       "      <th>waterpoint_type</th>\n",
       "      <th>waterpoint_type_group</th>\n",
       "    </tr>\n",
       "    <tr>\n",
       "      <th>id</th>\n",
       "      <th></th>\n",
       "      <th></th>\n",
       "      <th></th>\n",
       "      <th></th>\n",
       "      <th></th>\n",
       "      <th></th>\n",
       "      <th></th>\n",
       "      <th></th>\n",
       "      <th></th>\n",
       "      <th></th>\n",
       "      <th></th>\n",
       "      <th></th>\n",
       "      <th></th>\n",
       "      <th></th>\n",
       "      <th></th>\n",
       "      <th></th>\n",
       "      <th></th>\n",
       "      <th></th>\n",
       "      <th></th>\n",
       "      <th></th>\n",
       "      <th></th>\n",
       "    </tr>\n",
       "  </thead>\n",
       "  <tbody>\n",
       "    <tr>\n",
       "      <th>6091</th>\n",
       "      <td>0</td>\n",
       "      <td>0.0</td>\n",
       "      <td>2013-02-10</td>\n",
       "      <td>dwsp</td>\n",
       "      <td>0</td>\n",
       "      <td>dwe</td>\n",
       "      <td>0.0</td>\n",
       "      <td>-2.000000e-08</td>\n",
       "      <td>muungano</td>\n",
       "      <td>0</td>\n",
       "      <td>...</td>\n",
       "      <td>NaN</td>\n",
       "      <td>NaN</td>\n",
       "      <td>NaN</td>\n",
       "      <td>NaN</td>\n",
       "      <td>NaN</td>\n",
       "      <td>shallow well</td>\n",
       "      <td>shallow well</td>\n",
       "      <td>groundwater</td>\n",
       "      <td>hand pump</td>\n",
       "      <td>hand pump</td>\n",
       "    </tr>\n",
       "    <tr>\n",
       "      <th>32376</th>\n",
       "      <td>1</td>\n",
       "      <td>0.0</td>\n",
       "      <td>2011-08-01</td>\n",
       "      <td>government of tanzania</td>\n",
       "      <td>0</td>\n",
       "      <td>government</td>\n",
       "      <td>0.0</td>\n",
       "      <td>-2.000000e-08</td>\n",
       "      <td>polisi</td>\n",
       "      <td>0</td>\n",
       "      <td>...</td>\n",
       "      <td>NaN</td>\n",
       "      <td>NaN</td>\n",
       "      <td>NaN</td>\n",
       "      <td>dry</td>\n",
       "      <td>dry</td>\n",
       "      <td>machine dbh</td>\n",
       "      <td>borehole</td>\n",
       "      <td>groundwater</td>\n",
       "      <td>communal standpipe multiple</td>\n",
       "      <td>communal standpipe</td>\n",
       "    </tr>\n",
       "    <tr>\n",
       "      <th>72678</th>\n",
       "      <td>0</td>\n",
       "      <td>0.0</td>\n",
       "      <td>2013-01-30</td>\n",
       "      <td>wvt</td>\n",
       "      <td>0</td>\n",
       "      <td>wvt</td>\n",
       "      <td>0.0</td>\n",
       "      <td>-2.000000e-08</td>\n",
       "      <td>wvt tanzania</td>\n",
       "      <td>0</td>\n",
       "      <td>...</td>\n",
       "      <td>NaN</td>\n",
       "      <td>soft</td>\n",
       "      <td>good</td>\n",
       "      <td>seasonal</td>\n",
       "      <td>seasonal</td>\n",
       "      <td>rainwater harvesting</td>\n",
       "      <td>rainwater harvesting</td>\n",
       "      <td>surface</td>\n",
       "      <td>communal standpipe</td>\n",
       "      <td>communal standpipe</td>\n",
       "    </tr>\n",
       "    <tr>\n",
       "      <th>56725</th>\n",
       "      <td>1</td>\n",
       "      <td>0.0</td>\n",
       "      <td>2013-01-17</td>\n",
       "      <td>netherlands</td>\n",
       "      <td>0</td>\n",
       "      <td>dwe</td>\n",
       "      <td>0.0</td>\n",
       "      <td>-2.000000e-08</td>\n",
       "      <td>kikundi cha wakina mama</td>\n",
       "      <td>0</td>\n",
       "      <td>...</td>\n",
       "      <td>NaN</td>\n",
       "      <td>soft</td>\n",
       "      <td>good</td>\n",
       "      <td>enough</td>\n",
       "      <td>enough</td>\n",
       "      <td>shallow well</td>\n",
       "      <td>shallow well</td>\n",
       "      <td>groundwater</td>\n",
       "      <td>NaN</td>\n",
       "      <td>NaN</td>\n",
       "    </tr>\n",
       "    <tr>\n",
       "      <th>13042</th>\n",
       "      <td>1</td>\n",
       "      <td>0.0</td>\n",
       "      <td>2012-10-29</td>\n",
       "      <td>hesawa</td>\n",
       "      <td>0</td>\n",
       "      <td>dwe</td>\n",
       "      <td>0.0</td>\n",
       "      <td>-2.000000e-08</td>\n",
       "      <td>kwakisusi</td>\n",
       "      <td>0</td>\n",
       "      <td>...</td>\n",
       "      <td>never pay</td>\n",
       "      <td>soft</td>\n",
       "      <td>good</td>\n",
       "      <td>insufficient</td>\n",
       "      <td>insufficient</td>\n",
       "      <td>shallow well</td>\n",
       "      <td>shallow well</td>\n",
       "      <td>groundwater</td>\n",
       "      <td>hand pump</td>\n",
       "      <td>hand pump</td>\n",
       "    </tr>\n",
       "  </tbody>\n",
       "</table>\n",
       "<p>5 rows × 40 columns</p>\n",
       "</div>"
      ],
      "text/plain": [
       "       status_group  amount_tsh date_recorded                  funder  \\\n",
       "id                                                                      \n",
       "6091              0         0.0    2013-02-10                    dwsp   \n",
       "32376             1         0.0    2011-08-01  government of tanzania   \n",
       "72678             0         0.0    2013-01-30                     wvt   \n",
       "56725             1         0.0    2013-01-17             netherlands   \n",
       "13042             1         0.0    2012-10-29                  hesawa   \n",
       "\n",
       "       gps_height   installer  longitude      latitude  \\\n",
       "id                                                       \n",
       "6091            0         dwe        0.0 -2.000000e-08   \n",
       "32376           0  government        0.0 -2.000000e-08   \n",
       "72678           0         wvt        0.0 -2.000000e-08   \n",
       "56725           0         dwe        0.0 -2.000000e-08   \n",
       "13042           0         dwe        0.0 -2.000000e-08   \n",
       "\n",
       "                      wpt_name  num_private  ... payment_type water_quality  \\\n",
       "id                                           ...                              \n",
       "6091                  muungano            0  ...          NaN           NaN   \n",
       "32376                   polisi            0  ...          NaN           NaN   \n",
       "72678             wvt tanzania            0  ...          NaN          soft   \n",
       "56725  kikundi cha wakina mama            0  ...          NaN          soft   \n",
       "13042                kwakisusi            0  ...    never pay          soft   \n",
       "\n",
       "      quality_group      quantity  quantity_group                source  \\\n",
       "id                                                                        \n",
       "6091            NaN           NaN             NaN          shallow well   \n",
       "32376           NaN           dry             dry           machine dbh   \n",
       "72678          good      seasonal        seasonal  rainwater harvesting   \n",
       "56725          good        enough          enough          shallow well   \n",
       "13042          good  insufficient    insufficient          shallow well   \n",
       "\n",
       "                source_type  source_class              waterpoint_type  \\\n",
       "id                                                                       \n",
       "6091           shallow well   groundwater                    hand pump   \n",
       "32376              borehole   groundwater  communal standpipe multiple   \n",
       "72678  rainwater harvesting       surface           communal standpipe   \n",
       "56725          shallow well   groundwater                          NaN   \n",
       "13042          shallow well   groundwater                    hand pump   \n",
       "\n",
       "      waterpoint_type_group  \n",
       "id                           \n",
       "6091              hand pump  \n",
       "32376    communal standpipe  \n",
       "72678    communal standpipe  \n",
       "56725                   NaN  \n",
       "13042             hand pump  \n",
       "\n",
       "[5 rows x 40 columns]"
      ]
     },
     "execution_count": 16,
     "metadata": {},
     "output_type": "execute_result"
    }
   ],
   "source": [
    "# Filtering to see if any other rows are affected\n",
    "filtered_df = wells_df[wells_df['longitude'] == 0]\n",
    "\n",
    "print(len(filtered_df))\n",
    "\n",
    "filtered_df.head()"
   ]
  },
  {
   "cell_type": "markdown",
   "metadata": {},
   "source": [
    "Since these wells have longitude and latiude of 0 it is safe to say that these wells while they were recorded either have an unknown location or do not have a location inside of Tanzania and as such are not reliable data point.\n",
    "\n",
    "We will be dropping all of these rows from the dataset."
   ]
  },
  {
   "cell_type": "code",
   "execution_count": 17,
   "metadata": {},
   "outputs": [],
   "source": [
    "wells_df = wells_df[wells_df['longitude'] != 0]"
   ]
  },
  {
   "cell_type": "markdown",
   "metadata": {},
   "source": [
    "## Installer Column: Typos"
   ]
  },
  {
   "cell_type": "code",
   "execution_count": 18,
   "metadata": {},
   "outputs": [
    {
     "data": {
      "text/plain": [
       "1903"
      ]
     },
     "execution_count": 18,
     "metadata": {},
     "output_type": "execute_result"
    }
   ],
   "source": [
    "wells_df['installer'].nunique()"
   ]
  },
  {
   "cell_type": "code",
   "execution_count": 19,
   "metadata": {},
   "outputs": [],
   "source": [
    "installer_replacement_dict = {\n",
    "    'central government': 'central government',\n",
    "    'tanzania government': 'central government',\n",
    "    'cental government': 'central government',\n",
    "    'cebtral government': 'central government',\n",
    "    'centra government': 'central government',\n",
    "    'central govt': 'central government',\n",
    "    'centr': 'central government',\n",
    "    'centra govt': 'central government',\n",
    "    'tanzanian government': 'central government',\n",
    "    'tanzania': 'central government',\n",
    "    \n",
    "    'district council': 'district council',\n",
    "    'counc': 'district council',\n",
    "    'district counci': 'district council',\n",
    "    'council': 'district council',\n",
    "    'coun': 'district council',\n",
    "    'distri': 'district council',\n",
    "    'district  council': 'district council',\n",
    "    \n",
    "    'villigers': 'villagers',\n",
    "    'villager': 'villagers',\n",
    "    'villa': 'villagers',\n",
    "    'village': 'villagers',\n",
    "    'villi': 'villagers',\n",
    "    'village council': 'villagers',\n",
    "    'village counil': 'villagers',\n",
    "    'villages': 'villagers',\n",
    "    'vill': 'villagers',\n",
    "    'village community': 'villagers',\n",
    "    'villaers': 'villagers',\n",
    "    'villag': 'villagers',\n",
    "    'villege council': 'villagers',\n",
    "    'villagerd': 'villagers',\n",
    "    'village technician': 'villagers',\n",
    "    'village office': 'villagers',\n",
    "    'village community members': 'villagers',\n",
    "    'village government': 'villagers',\n",
    "    'village govt': 'villagers',\n",
    "    \n",
    "    'district water department': 'district water department',\n",
    "    'district water depar': 'district water department',\n",
    "    'distric water department': 'district water department',\n",
    "    \n",
    "    'finw': 'fini water',\n",
    "    'fini water': 'fini water',\n",
    "    'fin water': 'fini water',\n",
    "    'finwater': 'fini water',\n",
    "    'finn water': 'fini water',\n",
    "    'fw': 'fini water',\n",
    "    \n",
    "    'rc church': 'rc church',\n",
    "    'rc churc': 'rc church',\n",
    "    'rc': 'rc church',\n",
    "    'rc ch': 'rc church',\n",
    "    'rc c': 'rc church',\n",
    "    'rc cathoric': 'rc church',\n",
    "    'ch': 'rc church',\n",
    "    \n",
    "    'world vision': 'world vision',\n",
    "    'world division': 'world vision',\n",
    "    'world vission': 'world vision',\n",
    "    \n",
    "    'unisef': 'unicef',\n",
    "    'unicef': 'unicef',\n",
    "    \n",
    "    'danid': 'danida',\n",
    "    \n",
    "    'commu': 'community',\n",
    "    'communit': 'community',\n",
    "    'adra /community': 'community',\n",
    "    'adra/community': 'community',\n",
    "    'adra/ community': 'community',\n",
    "    \n",
    "    'government': 'government',\n",
    "    'gover': 'government',\n",
    "    'governme': 'government',\n",
    "    'goverm': 'government',\n",
    "    'govern': 'government',\n",
    "    'gove': 'government',\n",
    "    'governmen': 'government',\n",
    "    \n",
    "    'hesawa': 'hesawa',\n",
    "    \n",
    "    'jaica': 'jaica',\n",
    "    'jica': 'jaica',\n",
    "    'jeica': 'jaica',\n",
    "    'jaica co': 'jaica',\n",
    "    \n",
    "    'kkkt _ konde and dwe': 'kkkt',\n",
    "    'kkt': 'kkkt',\n",
    "    'kkkt church': 'kkkt'\n",
    "}"
   ]
  },
  {
   "cell_type": "code",
   "execution_count": 20,
   "metadata": {},
   "outputs": [],
   "source": [
    "wells_df['installer'] = wells_df['installer'].replace(installer_replacement_dict)"
   ]
  },
  {
   "cell_type": "code",
   "execution_count": 21,
   "metadata": {},
   "outputs": [
    {
     "data": {
      "text/plain": [
       "1835"
      ]
     },
     "execution_count": 21,
     "metadata": {},
     "output_type": "execute_result"
    }
   ],
   "source": [
    "wells_df['installer'].nunique()"
   ]
  },
  {
   "cell_type": "markdown",
   "metadata": {},
   "source": [
    "## Formatting Cleanup"
   ]
  },
  {
   "cell_type": "code",
   "execution_count": 22,
   "metadata": {},
   "outputs": [],
   "source": [
    "# Function to replace \"other - \" prefix\n",
    "def replace_other_prefix(value):\n",
    "    if isinstance(value, str) and value.startswith('other -'):\n",
    "        return value.split('other -', 1)[1].strip()\n",
    "    return value\n",
    "\n",
    "# Apply the function to the entire DataFrame\n",
    "wells_df = wells_df.applymap(replace_other_prefix)"
   ]
  },
  {
   "cell_type": "markdown",
   "metadata": {},
   "source": [
    "## Missing Values"
   ]
  },
  {
   "cell_type": "markdown",
   "metadata": {},
   "source": [
    "### Categorical columns with 0's"
   ]
  },
  {
   "cell_type": "code",
   "execution_count": 23,
   "metadata": {},
   "outputs": [],
   "source": [
    "# Replace all 0's with NaNs\n",
    "for col in wells_df.columns:\n",
    "    if wells_df[col].dtype == 'O':\n",
    "        wells_df[col] = wells_df[col].replace('0', np.nan)"
   ]
  },
  {
   "cell_type": "markdown",
   "metadata": {},
   "source": [
    "## Applying the correct data types"
   ]
  },
  {
   "cell_type": "markdown",
   "metadata": {},
   "source": [
    "The columns listed below act more as lables than as integers. They identify a specific aspect of about the row entry and as such should be considered categorical variables."
   ]
  },
  {
   "cell_type": "code",
   "execution_count": 24,
   "metadata": {},
   "outputs": [],
   "source": [
    "wells_df['region_code'] = wells_df['region_code'].astype(str)\n",
    "wells_df['district_code'] = wells_df['district_code'].astype(str)"
   ]
  },
  {
   "cell_type": "markdown",
   "metadata": {},
   "source": [
    "## Missing values"
   ]
  },
  {
   "cell_type": "code",
   "execution_count": 25,
   "metadata": {},
   "outputs": [
    {
     "name": "stdout",
     "output_type": "stream",
     "text": [
      "status_group': Missing Values: 1830, Unique Values: 2, Dtype: int64\n",
      "amount_tsh': Missing Values: 1830, Unique Values: 88, Dtype: float64\n",
      "date_recorded': Missing Values: 1830, Unique Values: 353, Dtype: object\n",
      "funder': Missing Values: 6234, Unique Values: 1854, Dtype: object\n",
      "gps_height': Missing Values: 1830, Unique Values: 2428, Dtype: int64\n",
      "installer': Missing Values: 6246, Unique Values: 1834, Dtype: object\n",
      "longitude': Missing Values: 1830, Unique Values: 57497, Dtype: float64\n",
      "latitude': Missing Values: 1830, Unique Values: 57498, Dtype: float64\n",
      "wpt_name': Missing Values: 5327, Unique Values: 36707, Dtype: object\n",
      "num_private': Missing Values: 1830, Unique Values: 65, Dtype: int64\n",
      "basin': Missing Values: 1830, Unique Values: 9, Dtype: object\n",
      "subvillage': Missing Values: 2201, Unique Values: 18566, Dtype: object\n",
      "region': Missing Values: 1830, Unique Values: 21, Dtype: object\n",
      "region_code': Missing Values: 1830, Unique Values: 27, Dtype: object\n",
      "district_code': Missing Values: 1830, Unique Values: 20, Dtype: object\n",
      "lga': Missing Values: 1830, Unique Values: 124, Dtype: object\n",
      "ward': Missing Values: 1830, Unique Values: 2033, Dtype: object\n",
      "population': Missing Values: 1830, Unique Values: 1047, Dtype: int64\n",
      "public_meeting': Missing Values: 4806, Unique Values: 2, Dtype: object\n",
      "recorded_by': Missing Values: 1830, Unique Values: 1, Dtype: object\n",
      "scheme_management': Missing Values: 6346, Unique Values: 10, Dtype: object\n",
      "scheme_name': Missing Values: 29189, Unique Values: 2536, Dtype: object\n",
      "permit': Missing Values: 4884, Unique Values: 2, Dtype: object\n",
      "construction_year': Missing Values: 1830, Unique Values: 55, Dtype: int64\n",
      "extraction_type': Missing Values: 7990, Unique Values: 17, Dtype: object\n",
      "extraction_type_group': Missing Values: 7990, Unique Values: 12, Dtype: object\n",
      "extraction_type_class': Missing Values: 7990, Unique Values: 6, Dtype: object\n",
      "management': Missing Values: 3221, Unique Values: 10, Dtype: object\n",
      "management_group': Missing Values: 3320, Unique Values: 3, Dtype: object\n",
      "payment': Missing Values: 10386, Unique Values: 5, Dtype: object\n",
      "payment_type': Missing Values: 10386, Unique Values: 5, Dtype: object\n",
      "water_quality': Missing Values: 3491, Unique Values: 7, Dtype: object\n",
      "quality_group': Missing Values: 3491, Unique Values: 5, Dtype: object\n",
      "quantity': Missing Values: 2603, Unique Values: 4, Dtype: object\n",
      "quantity_group': Missing Values: 2603, Unique Values: 4, Dtype: object\n",
      "source': Missing Values: 2096, Unique Values: 8, Dtype: object\n",
      "source_type': Missing Values: 2096, Unique Values: 6, Dtype: object\n",
      "source_class': Missing Values: 2096, Unique Values: 2, Dtype: object\n",
      "waterpoint_type': Missing Values: 7997, Unique Values: 6, Dtype: object\n",
      "waterpoint_type_group': Missing Values: 7997, Unique Values: 5, Dtype: object\n"
     ]
    }
   ],
   "source": [
    "# Assuming you already have 'expected_length' and 'wells_df' defined\n",
    "expected_length = 59400\n",
    "columns_with_missing_values = {}\n",
    "\n",
    "# Iterate over columns to find those not meeting expected length\n",
    "for col in wells_df.columns:\n",
    "    if wells_df[col].count() != expected_length:\n",
    "        columns_with_missing_values[col] = {\n",
    "            'missing_count': expected_length - wells_df[col].count(),\n",
    "            'unique_count': len(wells_df[col].value_counts()),\n",
    "            'dtype': wells_df[col].dtype  # Add data type information\n",
    "        }\n",
    "\n",
    "# Print the dictionary\n",
    "for col, info in columns_with_missing_values.items():\n",
    "    print(f\"{col}': Missing Values: {info['missing_count']}, Unique Values: {info['unique_count']}, Dtype: {info['dtype']}\")"
   ]
  },
  {
   "cell_type": "markdown",
   "metadata": {},
   "source": [
    "### Filling Missing Values"
   ]
  },
  {
   "cell_type": "markdown",
   "metadata": {},
   "source": [
    "Since all of the columns above are categorical columns, we will be filling them with the string 'unknown' so that we can maintain as much data as possible. "
   ]
  },
  {
   "cell_type": "code",
   "execution_count": 26,
   "metadata": {},
   "outputs": [],
   "source": [
    "wells_df.fillna('unknown', inplace=True)"
   ]
  },
  {
   "cell_type": "code",
   "execution_count": 27,
   "metadata": {},
   "outputs": [
    {
     "name": "stdout",
     "output_type": "stream",
     "text": [
      "<class 'pandas.core.frame.DataFrame'>\n",
      "Int64Index: 57570 entries, 69572 to 26348\n",
      "Data columns (total 40 columns):\n",
      " #   Column                 Non-Null Count  Dtype  \n",
      "---  ------                 --------------  -----  \n",
      " 0   status_group           57570 non-null  int64  \n",
      " 1   amount_tsh             57570 non-null  float64\n",
      " 2   date_recorded          57570 non-null  object \n",
      " 3   funder                 57570 non-null  object \n",
      " 4   gps_height             57570 non-null  int64  \n",
      " 5   installer              57570 non-null  object \n",
      " 6   longitude              57570 non-null  float64\n",
      " 7   latitude               57570 non-null  float64\n",
      " 8   wpt_name               57570 non-null  object \n",
      " 9   num_private            57570 non-null  int64  \n",
      " 10  basin                  57570 non-null  object \n",
      " 11  subvillage             57570 non-null  object \n",
      " 12  region                 57570 non-null  object \n",
      " 13  region_code            57570 non-null  object \n",
      " 14  district_code          57570 non-null  object \n",
      " 15  lga                    57570 non-null  object \n",
      " 16  ward                   57570 non-null  object \n",
      " 17  population             57570 non-null  int64  \n",
      " 18  public_meeting         57570 non-null  object \n",
      " 19  recorded_by            57570 non-null  object \n",
      " 20  scheme_management      57570 non-null  object \n",
      " 21  scheme_name            57570 non-null  object \n",
      " 22  permit                 57570 non-null  object \n",
      " 23  construction_year      57570 non-null  int64  \n",
      " 24  extraction_type        57570 non-null  object \n",
      " 25  extraction_type_group  57570 non-null  object \n",
      " 26  extraction_type_class  57570 non-null  object \n",
      " 27  management             57570 non-null  object \n",
      " 28  management_group       57570 non-null  object \n",
      " 29  payment                57570 non-null  object \n",
      " 30  payment_type           57570 non-null  object \n",
      " 31  water_quality          57570 non-null  object \n",
      " 32  quality_group          57570 non-null  object \n",
      " 33  quantity               57570 non-null  object \n",
      " 34  quantity_group         57570 non-null  object \n",
      " 35  source                 57570 non-null  object \n",
      " 36  source_type            57570 non-null  object \n",
      " 37  source_class           57570 non-null  object \n",
      " 38  waterpoint_type        57570 non-null  object \n",
      " 39  waterpoint_type_group  57570 non-null  object \n",
      "dtypes: float64(3), int64(5), object(32)\n",
      "memory usage: 18.0+ MB\n"
     ]
    }
   ],
   "source": [
    "wells_df.info()"
   ]
  },
  {
   "cell_type": "markdown",
   "metadata": {},
   "source": [
    "## Dropping Columns"
   ]
  },
  {
   "cell_type": "code",
   "execution_count": 28,
   "metadata": {},
   "outputs": [
    {
     "name": "stdout",
     "output_type": "stream",
     "text": [
      "Are they identical? True\n"
     ]
    }
   ],
   "source": [
    "are_identical = wells_df['quantity'].equals(wells_df['quantity_group'])\n",
    "print('Are they identical?', are_identical)"
   ]
  },
  {
   "cell_type": "markdown",
   "metadata": {},
   "source": [
    "We are going to drop the following columns:\n",
    "\n",
    "- 'recorded_by'\n",
    "    - All records were recorded by the same person. No unique data is provided.\n",
    "- 'quantity_group'\n",
    "    - This column is identical to 'quantity'\n",
    "- 'date_recorded'\n",
    "    - The date that the information was recorded does not hold valuable information for determining the status of the well. \n",
    "- 'num_private'\n",
    "    - There is no description for this column inside of the data table's documentation. \n",
    "    - https://www.drivendata.org/competitions/7/pump-it-up-data-mining-the-water-table/page/25/"
   ]
  },
  {
   "cell_type": "code",
   "execution_count": 29,
   "metadata": {},
   "outputs": [],
   "source": [
    "# Drop columns\n",
    "wells_df.drop(['recorded_by', 'quantity_group', 'date_recorded', 'num_private'], axis=1, inplace=True)"
   ]
  },
  {
   "cell_type": "markdown",
   "metadata": {},
   "source": [
    "# Baseline Feature Importance"
   ]
  },
  {
   "cell_type": "markdown",
   "metadata": {},
   "source": [
    "## Baseline Feature Importance: Decision Tree"
   ]
  },
  {
   "cell_type": "code",
   "execution_count": 30,
   "metadata": {},
   "outputs": [],
   "source": [
    "baseline_dt_df = wells_df.copy()"
   ]
  },
  {
   "cell_type": "code",
   "execution_count": 31,
   "metadata": {},
   "outputs": [],
   "source": [
    "# Encode categorical variables using LabelEncoder\n",
    "le = LabelEncoder()\n",
    "for col in baseline_dt_df.select_dtypes(include='object').columns:\n",
    "    baseline_dt_df[col] = le.fit_transform(baseline_dt_df[col])"
   ]
  },
  {
   "cell_type": "code",
   "execution_count": 32,
   "metadata": {},
   "outputs": [],
   "source": [
    "X_train, X_test, y_train, y_test = split_data(baseline_dt_df, 'status_group')"
   ]
  },
  {
   "cell_type": "code",
   "execution_count": 33,
   "metadata": {},
   "outputs": [
    {
     "data": {
      "text/plain": [
       "DecisionTreeClassifier(random_state=42)"
      ]
     },
     "execution_count": 33,
     "metadata": {},
     "output_type": "execute_result"
    }
   ],
   "source": [
    "# Train a simple decision tree classifier\n",
    "dt = DecisionTreeClassifier(random_state=42)\n",
    "dt.fit(X_train, y_train)"
   ]
  },
  {
   "cell_type": "code",
   "execution_count": 34,
   "metadata": {},
   "outputs": [],
   "source": [
    "# Get feature importances\n",
    "importances = dt.feature_importances_\n",
    "feature_names = X_train.columns\n",
    "feature_importance_df = pd.DataFrame({'Feature': feature_names, 'Importance': importances})"
   ]
  },
  {
   "cell_type": "code",
   "execution_count": 35,
   "metadata": {},
   "outputs": [
    {
     "data": {
      "text/html": [
       "<div>\n",
       "<style scoped>\n",
       "    .dataframe tbody tr th:only-of-type {\n",
       "        vertical-align: middle;\n",
       "    }\n",
       "\n",
       "    .dataframe tbody tr th {\n",
       "        vertical-align: top;\n",
       "    }\n",
       "\n",
       "    .dataframe thead th {\n",
       "        text-align: right;\n",
       "    }\n",
       "</style>\n",
       "<table border=\"1\" class=\"dataframe\">\n",
       "  <thead>\n",
       "    <tr style=\"text-align: right;\">\n",
       "      <th></th>\n",
       "      <th>Feature</th>\n",
       "      <th>Importance</th>\n",
       "    </tr>\n",
       "  </thead>\n",
       "  <tbody>\n",
       "    <tr>\n",
       "      <th>29</th>\n",
       "      <td>quantity</td>\n",
       "      <td>0.143414</td>\n",
       "    </tr>\n",
       "    <tr>\n",
       "      <th>4</th>\n",
       "      <td>longitude</td>\n",
       "      <td>0.109715</td>\n",
       "    </tr>\n",
       "    <tr>\n",
       "      <th>5</th>\n",
       "      <td>latitude</td>\n",
       "      <td>0.095917</td>\n",
       "    </tr>\n",
       "    <tr>\n",
       "      <th>34</th>\n",
       "      <td>waterpoint_type_group</td>\n",
       "      <td>0.074964</td>\n",
       "    </tr>\n",
       "    <tr>\n",
       "      <th>6</th>\n",
       "      <td>wpt_name</td>\n",
       "      <td>0.072433</td>\n",
       "    </tr>\n",
       "    <tr>\n",
       "      <th>8</th>\n",
       "      <td>subvillage</td>\n",
       "      <td>0.063031</td>\n",
       "    </tr>\n",
       "    <tr>\n",
       "      <th>2</th>\n",
       "      <td>gps_height</td>\n",
       "      <td>0.047830</td>\n",
       "    </tr>\n",
       "    <tr>\n",
       "      <th>19</th>\n",
       "      <td>construction_year</td>\n",
       "      <td>0.038912</td>\n",
       "    </tr>\n",
       "    <tr>\n",
       "      <th>13</th>\n",
       "      <td>ward</td>\n",
       "      <td>0.037973</td>\n",
       "    </tr>\n",
       "    <tr>\n",
       "      <th>14</th>\n",
       "      <td>population</td>\n",
       "      <td>0.035885</td>\n",
       "    </tr>\n",
       "    <tr>\n",
       "      <th>1</th>\n",
       "      <td>funder</td>\n",
       "      <td>0.030737</td>\n",
       "    </tr>\n",
       "    <tr>\n",
       "      <th>3</th>\n",
       "      <td>installer</td>\n",
       "      <td>0.024856</td>\n",
       "    </tr>\n",
       "    <tr>\n",
       "      <th>0</th>\n",
       "      <td>amount_tsh</td>\n",
       "      <td>0.024518</td>\n",
       "    </tr>\n",
       "    <tr>\n",
       "      <th>12</th>\n",
       "      <td>lga</td>\n",
       "      <td>0.023856</td>\n",
       "    </tr>\n",
       "    <tr>\n",
       "      <th>17</th>\n",
       "      <td>scheme_name</td>\n",
       "      <td>0.022924</td>\n",
       "    </tr>\n",
       "    <tr>\n",
       "      <th>9</th>\n",
       "      <td>region</td>\n",
       "      <td>0.019552</td>\n",
       "    </tr>\n",
       "    <tr>\n",
       "      <th>22</th>\n",
       "      <td>extraction_type_class</td>\n",
       "      <td>0.014009</td>\n",
       "    </tr>\n",
       "    <tr>\n",
       "      <th>23</th>\n",
       "      <td>management</td>\n",
       "      <td>0.010207</td>\n",
       "    </tr>\n",
       "    <tr>\n",
       "      <th>20</th>\n",
       "      <td>extraction_type</td>\n",
       "      <td>0.009441</td>\n",
       "    </tr>\n",
       "    <tr>\n",
       "      <th>16</th>\n",
       "      <td>scheme_management</td>\n",
       "      <td>0.008787</td>\n",
       "    </tr>\n",
       "    <tr>\n",
       "      <th>18</th>\n",
       "      <td>permit</td>\n",
       "      <td>0.008369</td>\n",
       "    </tr>\n",
       "    <tr>\n",
       "      <th>25</th>\n",
       "      <td>payment</td>\n",
       "      <td>0.008288</td>\n",
       "    </tr>\n",
       "    <tr>\n",
       "      <th>11</th>\n",
       "      <td>district_code</td>\n",
       "      <td>0.008110</td>\n",
       "    </tr>\n",
       "    <tr>\n",
       "      <th>30</th>\n",
       "      <td>source</td>\n",
       "      <td>0.007853</td>\n",
       "    </tr>\n",
       "    <tr>\n",
       "      <th>31</th>\n",
       "      <td>source_type</td>\n",
       "      <td>0.007844</td>\n",
       "    </tr>\n",
       "    <tr>\n",
       "      <th>33</th>\n",
       "      <td>waterpoint_type</td>\n",
       "      <td>0.007246</td>\n",
       "    </tr>\n",
       "    <tr>\n",
       "      <th>7</th>\n",
       "      <td>basin</td>\n",
       "      <td>0.006857</td>\n",
       "    </tr>\n",
       "    <tr>\n",
       "      <th>21</th>\n",
       "      <td>extraction_type_group</td>\n",
       "      <td>0.006657</td>\n",
       "    </tr>\n",
       "    <tr>\n",
       "      <th>28</th>\n",
       "      <td>quality_group</td>\n",
       "      <td>0.005540</td>\n",
       "    </tr>\n",
       "    <tr>\n",
       "      <th>10</th>\n",
       "      <td>region_code</td>\n",
       "      <td>0.005316</td>\n",
       "    </tr>\n",
       "    <tr>\n",
       "      <th>26</th>\n",
       "      <td>payment_type</td>\n",
       "      <td>0.004768</td>\n",
       "    </tr>\n",
       "    <tr>\n",
       "      <th>27</th>\n",
       "      <td>water_quality</td>\n",
       "      <td>0.004146</td>\n",
       "    </tr>\n",
       "    <tr>\n",
       "      <th>24</th>\n",
       "      <td>management_group</td>\n",
       "      <td>0.004025</td>\n",
       "    </tr>\n",
       "    <tr>\n",
       "      <th>15</th>\n",
       "      <td>public_meeting</td>\n",
       "      <td>0.003425</td>\n",
       "    </tr>\n",
       "    <tr>\n",
       "      <th>32</th>\n",
       "      <td>source_class</td>\n",
       "      <td>0.002597</td>\n",
       "    </tr>\n",
       "  </tbody>\n",
       "</table>\n",
       "</div>"
      ],
      "text/plain": [
       "                  Feature  Importance\n",
       "29               quantity    0.143414\n",
       "4               longitude    0.109715\n",
       "5                latitude    0.095917\n",
       "34  waterpoint_type_group    0.074964\n",
       "6                wpt_name    0.072433\n",
       "8              subvillage    0.063031\n",
       "2              gps_height    0.047830\n",
       "19      construction_year    0.038912\n",
       "13                   ward    0.037973\n",
       "14             population    0.035885\n",
       "1                  funder    0.030737\n",
       "3               installer    0.024856\n",
       "0              amount_tsh    0.024518\n",
       "12                    lga    0.023856\n",
       "17            scheme_name    0.022924\n",
       "9                  region    0.019552\n",
       "22  extraction_type_class    0.014009\n",
       "23             management    0.010207\n",
       "20        extraction_type    0.009441\n",
       "16      scheme_management    0.008787\n",
       "18                 permit    0.008369\n",
       "25                payment    0.008288\n",
       "11          district_code    0.008110\n",
       "30                 source    0.007853\n",
       "31            source_type    0.007844\n",
       "33        waterpoint_type    0.007246\n",
       "7                   basin    0.006857\n",
       "21  extraction_type_group    0.006657\n",
       "28          quality_group    0.005540\n",
       "10            region_code    0.005316\n",
       "26           payment_type    0.004768\n",
       "27          water_quality    0.004146\n",
       "24       management_group    0.004025\n",
       "15         public_meeting    0.003425\n",
       "32           source_class    0.002597"
      ]
     },
     "execution_count": 35,
     "metadata": {},
     "output_type": "execute_result"
    }
   ],
   "source": [
    "# Sort by importance\n",
    "feature_importance_df = feature_importance_df.sort_values(by='Importance', ascending=False)\n",
    "feature_importance_df"
   ]
  },
  {
   "cell_type": "markdown",
   "metadata": {},
   "source": [
    "## Baseline Feature Importance: RFE"
   ]
  },
  {
   "cell_type": "code",
   "execution_count": 36,
   "metadata": {},
   "outputs": [],
   "source": [
    "# Initialize RFE \n",
    "rfe = RFE(estimator=dt, n_features_to_select=10)"
   ]
  },
  {
   "cell_type": "code",
   "execution_count": 37,
   "metadata": {},
   "outputs": [
    {
     "data": {
      "text/plain": [
       "RFE(estimator=DecisionTreeClassifier(random_state=42), n_features_to_select=10)"
      ]
     },
     "execution_count": 37,
     "metadata": {},
     "output_type": "execute_result"
    }
   ],
   "source": [
    "# Fit RFE\n",
    "rfe.fit(X_train, y_train)"
   ]
  },
  {
   "cell_type": "code",
   "execution_count": 38,
   "metadata": {},
   "outputs": [
    {
     "name": "stdout",
     "output_type": "stream",
     "text": [
      "Selected Features:\n",
      "Index(['funder', 'gps_height', 'longitude', 'latitude', 'wpt_name',\n",
      "       'subvillage', 'ward', 'construction_year', 'quantity',\n",
      "       'waterpoint_type'],\n",
      "      dtype='object')\n"
     ]
    }
   ],
   "source": [
    "# Get the selected features\n",
    "selected_features = X_train.columns[rfe.support_]\n",
    "print(\"Selected Features:\")\n",
    "print(selected_features)"
   ]
  },
  {
   "cell_type": "code",
   "execution_count": 39,
   "metadata": {},
   "outputs": [
    {
     "name": "stdout",
     "output_type": "stream",
     "text": [
      "Features ranked by importance:\n",
      "                  Feature  Ranking\n",
      "1                  funder        1\n",
      "2              gps_height        1\n",
      "4               longitude        1\n",
      "5                latitude        1\n",
      "6                wpt_name        1\n",
      "29               quantity        1\n",
      "8              subvillage        1\n",
      "19      construction_year        1\n",
      "13                   ward        1\n",
      "33        waterpoint_type        1\n",
      "14             population        2\n",
      "12                    lga        3\n",
      "0              amount_tsh        4\n",
      "3               installer        5\n",
      "22  extraction_type_class        6\n",
      "9                  region        7\n",
      "17            scheme_name        8\n",
      "23             management        9\n",
      "30                 source       10\n",
      "25                payment       11\n",
      "20        extraction_type       12\n",
      "16      scheme_management       13\n",
      "18                 permit       14\n",
      "28          quality_group       15\n",
      "11          district_code       16\n",
      "7                   basin       17\n",
      "21  extraction_type_group       18\n",
      "31            source_type       19\n",
      "10            region_code       20\n",
      "26           payment_type       21\n",
      "15         public_meeting       22\n",
      "27          water_quality       23\n",
      "24       management_group       24\n",
      "34  waterpoint_type_group       25\n",
      "32           source_class       26\n"
     ]
    }
   ],
   "source": [
    "# Get feature ranking\n",
    "ranking = rfe.ranking_\n",
    "feature_ranking = pd.DataFrame({'Feature': X_train.columns, 'Ranking': ranking})\n",
    "\n",
    "# Sort by ranking\n",
    "feature_ranking = feature_ranking.sort_values(by='Ranking')\n",
    "print(\"Features ranked by importance:\")\n",
    "print(feature_ranking)"
   ]
  },
  {
   "cell_type": "markdown",
   "metadata": {},
   "source": [
    "## Baseline Feature Importance: Analysis"
   ]
  },
  {
   "cell_type": "code",
   "execution_count": 40,
   "metadata": {},
   "outputs": [],
   "source": [
    "# Merge feature importance and ranking DataFrames on feature names\n",
    "baseline_feature_analysis_df = pd.merge(\n",
    "feature_importance_df, feature_ranking, on='Feature', suffixes=('_importance', '_ranking')\n",
    ")"
   ]
  },
  {
   "cell_type": "markdown",
   "metadata": {},
   "source": [
    "Now that we have combined the feature selections together we can filter the dataframe so we can see the featuresthat are less likely to contribute to our models performance.\n",
    "\n",
    "We will want to look at any feature that matches both of the criteria listed below and consider dropping those features. \n",
    "\n",
    "For RFE (Recursive Feature Elimination) features with higher ranks are considered less important by RFE so we will look at features with a rank below 20. \n",
    "\n",
    "For the decision tree feature importance, we will look at features that have a gini impurity below .01. "
   ]
  },
  {
   "cell_type": "code",
   "execution_count": 41,
   "metadata": {},
   "outputs": [],
   "source": [
    "# Filter the DataFrame\n",
    "features_to_drop = baseline_feature_analysis_df[\n",
    "    (baseline_feature_analysis_df['Importance'] < 0.01) & \n",
    "    (baseline_feature_analysis_df['Ranking'] >= 20)\n",
    "]['Feature']"
   ]
  },
  {
   "cell_type": "code",
   "execution_count": 42,
   "metadata": {},
   "outputs": [
    {
     "data": {
      "text/plain": [
       "29         region_code\n",
       "30        payment_type\n",
       "31       water_quality\n",
       "32    management_group\n",
       "33      public_meeting\n",
       "34        source_class\n",
       "Name: Feature, dtype: object"
      ]
     },
     "execution_count": 42,
     "metadata": {},
     "output_type": "execute_result"
    }
   ],
   "source": [
    "features_to_drop"
   ]
  },
  {
   "cell_type": "code",
   "execution_count": 43,
   "metadata": {},
   "outputs": [
    {
     "data": {
      "text/plain": [
       "{'region_code': {'dtype': dtype('O'), 'unique_values': 27},\n",
       " 'payment_type': {'dtype': dtype('O'), 'unique_values': 6},\n",
       " 'water_quality': {'dtype': dtype('O'), 'unique_values': 8},\n",
       " 'management_group': {'dtype': dtype('O'), 'unique_values': 4},\n",
       " 'public_meeting': {'dtype': dtype('O'), 'unique_values': 3},\n",
       " 'source_class': {'dtype': dtype('O'), 'unique_values': 3}}"
      ]
     },
     "execution_count": 43,
     "metadata": {},
     "output_type": "execute_result"
    }
   ],
   "source": [
    "columns_to_drop = {}\n",
    "\n",
    "for col in features_to_drop:\n",
    "    columns_to_drop[col] = {\n",
    "        'dtype' : wells_df[col].dtype,\n",
    "        'unique_values' : wells_df[col].nunique()\n",
    "    }\n",
    "    \n",
    "columns_to_drop"
   ]
  },
  {
   "cell_type": "markdown",
   "metadata": {},
   "source": [
    "### 'source_class' and 'source_type'"
   ]
  },
  {
   "cell_type": "code",
   "execution_count": 44,
   "metadata": {},
   "outputs": [
    {
     "data": {
      "text/plain": [
       "groundwater    44201\n",
       "surface        13103\n",
       "unknown          266\n",
       "Name: source_class, dtype: int64"
      ]
     },
     "execution_count": 44,
     "metadata": {},
     "output_type": "execute_result"
    }
   ],
   "source": [
    "wells_df['source_class'].value_counts()"
   ]
  },
  {
   "cell_type": "code",
   "execution_count": 45,
   "metadata": {},
   "outputs": [
    {
     "data": {
      "text/plain": [
       "spring                  17006\n",
       "shallow well            15498\n",
       "borehole                11697\n",
       "river/lake              10236\n",
       "rainwater harvesting     2218\n",
       "dam                       649\n",
       "unknown                   266\n",
       "Name: source_type, dtype: int64"
      ]
     },
     "execution_count": 45,
     "metadata": {},
     "output_type": "execute_result"
    }
   ],
   "source": [
    "wells_df['source_type'].value_counts()"
   ]
  },
  {
   "cell_type": "markdown",
   "metadata": {},
   "source": [
    "Even though this a low scoring column, the water source of the well is most likely a good indicator of the status of the well itself. We will want to retain as much information as we can that can lead us to determining the functional status of a well."
   ]
  },
  {
   "cell_type": "markdown",
   "metadata": {},
   "source": [
    "### 'payment_type'"
   ]
  },
  {
   "cell_type": "code",
   "execution_count": 46,
   "metadata": {},
   "outputs": [
    {
     "data": {
      "text/plain": [
       "never pay     24380\n",
       "per bucket     8953\n",
       "unknown        8556\n",
       "monthly        8216\n",
       "on failure     3841\n",
       "annually       3624\n",
       "Name: payment_type, dtype: int64"
      ]
     },
     "execution_count": 46,
     "metadata": {},
     "output_type": "execute_result"
    }
   ],
   "source": [
    "wells_df['payment_type'].value_counts()"
   ]
  },
  {
   "cell_type": "code",
   "execution_count": 47,
   "metadata": {},
   "outputs": [
    {
     "data": {
      "text/plain": [
       "never pay                24380\n",
       "pay per bucket            8953\n",
       "unknown                   8556\n",
       "pay monthly               8216\n",
       "pay when scheme fails     3841\n",
       "pay annually              3624\n",
       "Name: payment, dtype: int64"
      ]
     },
     "execution_count": 47,
     "metadata": {},
     "output_type": "execute_result"
    }
   ],
   "source": [
    "wells_df['payment'].value_counts()"
   ]
  },
  {
   "cell_type": "markdown",
   "metadata": {},
   "source": [
    "This column is essentially the same as 'payment' as such we can drop this column."
   ]
  },
  {
   "cell_type": "markdown",
   "metadata": {},
   "source": [
    "### 'public_meeting'"
   ]
  },
  {
   "cell_type": "code",
   "execution_count": 48,
   "metadata": {},
   "outputs": [
    {
     "data": {
      "text/plain": [
       "True       49722\n",
       "False       4872\n",
       "unknown     2976\n",
       "Name: public_meeting, dtype: int64"
      ]
     },
     "execution_count": 48,
     "metadata": {},
     "output_type": "execute_result"
    }
   ],
   "source": [
    "wells_df['public_meeting'].value_counts()"
   ]
  },
  {
   "cell_type": "markdown",
   "metadata": {},
   "source": [
    "Given its low scores and that there is no further information given in the documentation aside from True/False, we will drop this column."
   ]
  },
  {
   "cell_type": "markdown",
   "metadata": {},
   "source": [
    "### 'management_group'"
   ]
  },
  {
   "cell_type": "code",
   "execution_count": 49,
   "metadata": {},
   "outputs": [
    {
     "data": {
      "text/plain": [
       "user-group    50755\n",
       "commercial     3634\n",
       "parastatal     1691\n",
       "unknown        1490\n",
       "Name: management_group, dtype: int64"
      ]
     },
     "execution_count": 49,
     "metadata": {},
     "output_type": "execute_result"
    }
   ],
   "source": [
    "wells_df['management_group'].value_counts()"
   ]
  },
  {
   "cell_type": "markdown",
   "metadata": {},
   "source": [
    "- How the waterpoint is managed?\n",
    "\n",
    "This could indicate how different management practices that affect the functionality of the well. As such, we will want to keep this column."
   ]
  },
  {
   "cell_type": "markdown",
   "metadata": {},
   "source": [
    "### 'water_quality'"
   ]
  },
  {
   "cell_type": "code",
   "execution_count": 50,
   "metadata": {},
   "outputs": [
    {
     "data": {
      "text/plain": [
       "soft                  49413\n",
       "salty                  4772\n",
       "unknown                1661\n",
       "milky                   803\n",
       "coloured                479\n",
       "salty abandoned         228\n",
       "fluoride                199\n",
       "fluoride abandoned       15\n",
       "Name: water_quality, dtype: int64"
      ]
     },
     "execution_count": 50,
     "metadata": {},
     "output_type": "execute_result"
    }
   ],
   "source": [
    "wells_df['water_quality'].value_counts()"
   ]
  },
  {
   "cell_type": "code",
   "execution_count": 51,
   "metadata": {},
   "outputs": [
    {
     "data": {
      "text/plain": [
       "good        49413\n",
       "salty        5000\n",
       "unknown      1661\n",
       "milky         803\n",
       "colored       479\n",
       "fluoride      214\n",
       "Name: quality_group, dtype: int64"
      ]
     },
     "execution_count": 51,
     "metadata": {},
     "output_type": "execute_result"
    }
   ],
   "source": [
    "wells_df['quality_group'].value_counts()"
   ]
  },
  {
   "cell_type": "markdown",
   "metadata": {},
   "source": [
    "While there is less crossover inside of water_quality and quality_group we will want to keep both. \n",
    "\n",
    "The water quality of the well is most likely one of the best indicators of the status of the well. \n",
    "\n",
    "We will want to retain as much information as we can that can lead us to determining the functional status of a well."
   ]
  },
  {
   "cell_type": "markdown",
   "metadata": {},
   "source": [
    "### Dropping columns"
   ]
  },
  {
   "cell_type": "code",
   "execution_count": 52,
   "metadata": {},
   "outputs": [],
   "source": [
    "wells_df = wells_df.drop(['payment_type', 'public_meeting'], axis=1)"
   ]
  },
  {
   "cell_type": "markdown",
   "metadata": {},
   "source": [
    "## Columns with too many unique values"
   ]
  },
  {
   "cell_type": "code",
   "execution_count": 53,
   "metadata": {},
   "outputs": [
    {
     "data": {
      "text/plain": [
       "status_group                 2\n",
       "amount_tsh                  88\n",
       "funder                    1855\n",
       "gps_height                2428\n",
       "installer                 1835\n",
       "longitude                57497\n",
       "latitude                 57498\n",
       "wpt_name                 36708\n",
       "basin                        9\n",
       "subvillage               18567\n",
       "region                      21\n",
       "region_code                 27\n",
       "district_code               20\n",
       "lga                        124\n",
       "ward                      2033\n",
       "population                1047\n",
       "scheme_management           11\n",
       "scheme_name               2537\n",
       "permit                       3\n",
       "construction_year           55\n",
       "extraction_type             18\n",
       "extraction_type_group       13\n",
       "extraction_type_class        7\n",
       "management                  11\n",
       "management_group             4\n",
       "payment                      6\n",
       "water_quality                8\n",
       "quality_group                6\n",
       "quantity                     5\n",
       "source                       9\n",
       "source_type                  7\n",
       "source_class                 3\n",
       "waterpoint_type              7\n",
       "waterpoint_type_group        6\n",
       "dtype: int64"
      ]
     },
     "execution_count": 53,
     "metadata": {},
     "output_type": "execute_result"
    }
   ],
   "source": [
    "wells_df.nunique()"
   ]
  },
  {
   "cell_type": "markdown",
   "metadata": {},
   "source": [
    "Given the high amount of unique values that exist inside of various columns, we will bucket the values that fall under 1% of the columns total values. \n",
    "\n",
    "We will only be bucketing values for columns that have over 30 unique values so that we  maintain all of the unique values in columns that have smaller amount of unique values. "
   ]
  },
  {
   "cell_type": "code",
   "execution_count": 54,
   "metadata": {},
   "outputs": [
    {
     "data": {
      "text/plain": [
       "['funder', 'installer', 'wpt_name', 'subvillage', 'lga', 'ward', 'scheme_name']"
      ]
     },
     "execution_count": 54,
     "metadata": {},
     "output_type": "execute_result"
    }
   ],
   "source": [
    "too_many_unique_columns = []\n",
    "\n",
    "for col in wells_df.columns:\n",
    "    if wells_df[col].dtype == 'object' and wells_df[col].nunique() > 30:\n",
    "        too_many_unique_columns.append(col)\n",
    "        \n",
    "too_many_unique_columns"
   ]
  },
  {
   "cell_type": "code",
   "execution_count": 55,
   "metadata": {},
   "outputs": [],
   "source": [
    "for col in too_many_unique_columns:\n",
    "    if wells_df[col].dtype == 'object': \n",
    "        freq = wells_df[col].value_counts(normalize=True)\n",
    "        mask = wells_df[col].isin(freq[freq >= 0.01].index)\n",
    "        wells_df.loc[~mask, col] = 'other'"
   ]
  },
  {
   "cell_type": "code",
   "execution_count": 56,
   "metadata": {},
   "outputs": [
    {
     "data": {
      "text/plain": [
       "status_group                 2\n",
       "amount_tsh                  88\n",
       "funder                      19\n",
       "gps_height                2428\n",
       "installer                   15\n",
       "longitude                57497\n",
       "latitude                 57498\n",
       "wpt_name                     4\n",
       "basin                        9\n",
       "subvillage                   1\n",
       "region                      21\n",
       "region_code                 27\n",
       "district_code               20\n",
       "lga                         35\n",
       "ward                         1\n",
       "population                1047\n",
       "scheme_management           11\n",
       "scheme_name                  3\n",
       "permit                       3\n",
       "construction_year           55\n",
       "extraction_type             18\n",
       "extraction_type_group       13\n",
       "extraction_type_class        7\n",
       "management                  11\n",
       "management_group             4\n",
       "payment                      6\n",
       "water_quality                8\n",
       "quality_group                6\n",
       "quantity                     5\n",
       "source                       9\n",
       "source_type                  7\n",
       "source_class                 3\n",
       "waterpoint_type              7\n",
       "waterpoint_type_group        6\n",
       "dtype: int64"
      ]
     },
     "execution_count": 56,
     "metadata": {},
     "output_type": "execute_result"
    }
   ],
   "source": [
    "wells_df.nunique()"
   ]
  },
  {
   "cell_type": "markdown",
   "metadata": {},
   "source": [
    "# Column Correlation"
   ]
  },
  {
   "cell_type": "markdown",
   "metadata": {},
   "source": [
    "## Numeric Columns"
   ]
  },
  {
   "cell_type": "code",
   "execution_count": 57,
   "metadata": {},
   "outputs": [],
   "source": [
    "correlation_matrix = wells_df.corr()"
   ]
  },
  {
   "cell_type": "code",
   "execution_count": 58,
   "metadata": {},
   "outputs": [
    {
     "data": {
      "image/png": "[encoded data removed]",
      "text/plain": [
       "<Figure size 1080x720 with 2 Axes>"
      ]
     },
     "metadata": {
      "needs_background": "light"
     },
     "output_type": "display_data"
    }
   ],
   "source": [
    "# Set up the matplotlib figure\n",
    "plt.figure(figsize=(15, 10))\n",
    "\n",
    "# Draw the heatmap with the correlation matrix\n",
    "sns.heatmap(correlation_matrix, annot=True, fmt='.2f', cmap='coolwarm', linewidths=0.5)\n",
    "\n",
    "# Add title and labels\n",
    "plt.title('Correlation Matrix of Features')\n",
    "plt.show()"
   ]
  },
  {
   "cell_type": "markdown",
   "metadata": {},
   "source": [
    "While some columns border on being too correlated with each other (~0.80), none of columns exceed this threshold. If a column had multiple high correlations (either positive or negative) with other columns we would drop that column, but this is not the case. "
   ]
  },
  {
   "cell_type": "markdown",
   "metadata": {},
   "source": [
    "# Scoring Metric"
   ]
  },
  {
   "cell_type": "markdown",
   "metadata": {},
   "source": [
    "Inside of all the models listed below, we are using recall as our scoring metric. \n",
    "\n",
    "In the target variable, we started with three classes:\n",
    "- Functional\n",
    "- Non-Functional\n",
    "- Functional needs repair\n",
    "\n",
    "We combined the non-functional and the functional needs repair classes due to the heavy class imbalance inside of the functional needs repair class. Since functional needs repair and non-functional wells could both be classified into a needs attention class we combined them. Our updated classes are:\n",
    "\n",
    "- Does not need attention (for functional wells)\n",
    "- Needs attention (for non-functional and functionally needs repair wells)\n",
    "\n",
    "As such, here is a breakdown of our confusion matrix:\n",
    "- True Positive (TP): Correctly predicting a well as \"Does not need attention\".\n",
    "- False Positive (FP): Incorrectly predicting a well as \"Needs attention\" when it actually does not need attention.\n",
    "- True Negative (TN): Correctly predicting a well as \"Needs attention\".\n",
    "- False Negative (FN): Incorrectly predicting a well as \"Does not need attention\" when it actually needs attention.\n",
    "\n",
    "We chose to use recall as our primary scoring metric because it measures the proportion of wells that need attention that are correctly predicted as being in need of attention."
   ]
  },
  {
   "cell_type": "markdown",
   "metadata": {},
   "source": [
    "# Base Logistic Regression Models"
   ]
  },
  {
   "cell_type": "code",
   "execution_count": 59,
   "metadata": {},
   "outputs": [],
   "source": [
    "base_log_model_df = wells_df.copy()"
   ]
  },
  {
   "cell_type": "code",
   "execution_count": 60,
   "metadata": {},
   "outputs": [],
   "source": [
    "X_train, X_test, y_train, y_test = split_data(base_log_model_df, 'status_group')"
   ]
  },
  {
   "cell_type": "code",
   "execution_count": 61,
   "metadata": {},
   "outputs": [],
   "source": [
    "base_logistic_model = LogisticRegression(random_state=42, max_iter=2000)"
   ]
  },
  {
   "cell_type": "code",
   "execution_count": 62,
   "metadata": {},
   "outputs": [],
   "source": [
    "base_log_cv = CustomCrossValidator(base_logistic_model, X_train, y_train)"
   ]
  },
  {
   "cell_type": "code",
   "execution_count": 63,
   "metadata": {},
   "outputs": [],
   "source": [
    "sampling_methods = ['oversample', 'undersample', 'smote']"
   ]
  },
  {
   "cell_type": "code",
   "execution_count": 64,
   "metadata": {},
   "outputs": [
    {
     "name": "stdout",
     "output_type": "stream",
     "text": [
      "Running cross-validation with sampling method: oversample\n",
      "\n",
      "Running cross-validation with sampling method: undersample\n",
      "\n",
      "Running cross-validation with sampling method: smote\n",
      "\n",
      "Log: {('LogisticRegression', 'base', 'oversample'): 0.7043794944655426, ('LogisticRegression', 'base', 'undersample'): 0.7032904517477562, ('LogisticRegression', 'base', 'smote'): 0.7011659423295937}\n"
     ]
    }
   ],
   "source": [
    "base_log_cv.run_sampling_methods(sampling_methods, features=None, features_from='base', folds=5)"
   ]
  },
  {
   "cell_type": "markdown",
   "metadata": {},
   "source": [
    "# Base Decision Tree Models"
   ]
  },
  {
   "cell_type": "code",
   "execution_count": 65,
   "metadata": {},
   "outputs": [],
   "source": [
    "base_dt_model_df = wells_df.copy()"
   ]
  },
  {
   "cell_type": "code",
   "execution_count": 66,
   "metadata": {},
   "outputs": [],
   "source": [
    "X_train, X_test, y_train, y_test = split_data(base_dt_model_df, 'status_group')"
   ]
  },
  {
   "cell_type": "code",
   "execution_count": 67,
   "metadata": {},
   "outputs": [],
   "source": [
    "base_dt_model = DecisionTreeClassifier(random_state=42, max_depth=5, min_samples_split=20, min_samples_leaf=10)"
   ]
  },
  {
   "cell_type": "code",
   "execution_count": 68,
   "metadata": {},
   "outputs": [],
   "source": [
    "base_dt_cv = CustomCrossValidator(base_dt_model, X_train, y_train)"
   ]
  },
  {
   "cell_type": "code",
   "execution_count": 69,
   "metadata": {},
   "outputs": [
    {
     "name": "stdout",
     "output_type": "stream",
     "text": [
      "Running cross-validation with sampling method: oversample\n",
      "\n",
      "Running cross-validation with sampling method: undersample\n",
      "\n",
      "Running cross-validation with sampling method: smote\n",
      "\n",
      "Log: {('LogisticRegression', 'base', 'oversample'): 0.7043794944655426, ('LogisticRegression', 'base', 'undersample'): 0.7032904517477562, ('LogisticRegression', 'base', 'smote'): 0.7011659423295937, ('DecisionTreeClassifier', 'base', 'oversample'): 0.5150329468026201, ('DecisionTreeClassifier', 'base', 'undersample'): 0.5310489564026828, ('DecisionTreeClassifier', 'base', 'smote'): 0.5393838624465799}\n"
     ]
    }
   ],
   "source": [
    "base_dt_cv.run_sampling_methods(sampling_methods, features=None, features_from='base', folds=5)"
   ]
  },
  {
   "cell_type": "markdown",
   "metadata": {},
   "source": [
    "# Lasso Regression: Feature Selection"
   ]
  },
  {
   "cell_type": "code",
   "execution_count": 70,
   "metadata": {},
   "outputs": [],
   "source": [
    "lasso_regression_df = wells_df.copy()"
   ]
  },
  {
   "cell_type": "markdown",
   "metadata": {},
   "source": [
    "## Feature Selection"
   ]
  },
  {
   "cell_type": "code",
   "execution_count": 71,
   "metadata": {},
   "outputs": [],
   "source": [
    "# Set X, y variables and split\n",
    "\n",
    "X_train, X_test, y_train, y_test = split_data(lasso_regression_df, 'status_group')"
   ]
  },
  {
   "cell_type": "code",
   "execution_count": 72,
   "metadata": {},
   "outputs": [],
   "source": [
    "X_train_numeric_scaled_df, X_test_numeric_scaled_df = scale_numeric_features(X_train, X_test)"
   ]
  },
  {
   "cell_type": "code",
   "execution_count": 73,
   "metadata": {},
   "outputs": [],
   "source": [
    "encoded_train_df, encoded_test_df = encode_categorical_features(X_train, X_test)"
   ]
  },
  {
   "cell_type": "code",
   "execution_count": 74,
   "metadata": {},
   "outputs": [],
   "source": [
    "# Combine scaled and encoded features\n",
    "X_train_preprocessed = combine_features(X_train_numeric_scaled_df, encoded_train_df)\n",
    "\n",
    "X_test_preprocessed = combine_features(X_test_numeric_scaled_df, encoded_test_df)"
   ]
  },
  {
   "cell_type": "code",
   "execution_count": 75,
   "metadata": {},
   "outputs": [],
   "source": [
    "# Define a range of alpha values to test\n",
    "alpha_range = np.logspace(-5, 0, 10)\n",
    "\n",
    "# Initialize an empty list to store the mean cross-validated scores\n",
    "cv_scores = []"
   ]
  },
  {
   "cell_type": "code",
   "execution_count": 76,
   "metadata": {},
   "outputs": [
    {
     "name": "stdout",
     "output_type": "stream",
     "text": [
      "Best alpha: 3.5938136638046256e-05\n"
     ]
    }
   ],
   "source": [
    "# Perform cross-validation for each alpha\n",
    "for alpha in alpha_range:\n",
    "    lasso = Lasso(alpha=alpha, random_state=42, max_iter=4000)\n",
    "    scores = cross_val_score(lasso, X_train_preprocessed, y_train, cv=5, scoring='neg_mean_squared_error')\n",
    "    cv_scores.append(np.mean(scores))\n",
    "\n",
    "# Find the best alpha (the one with the highest score)\n",
    "best_alpha = alpha_range[np.argmax(cv_scores)]\n",
    "\n",
    "print(f\"Best alpha: {best_alpha}\")"
   ]
  },
  {
   "cell_type": "code",
   "execution_count": 77,
   "metadata": {},
   "outputs": [
    {
     "data": {
      "image/png": "[encoded data removed]",
      "text/plain": [
       "<Figure size 720x432 with 1 Axes>"
      ]
     },
     "metadata": {
      "needs_background": "light"
     },
     "output_type": "display_data"
    }
   ],
   "source": [
    "# Plot the mean cross-validated scores as a function of the alpha values\n",
    "plt.figure(figsize=(10, 6))\n",
    "plt.plot(alpha_range, cv_scores, marker='o')\n",
    "plt.xscale('log')\n",
    "plt.xlabel('Alpha')\n",
    "plt.ylabel('Negative Mean Squared Error')\n",
    "plt.title('Cross-Validation Scores for Different Alpha Values')\n",
    "plt.axvline(x=best_alpha, color='red', linestyle='--', label=f'Best Alpha: {best_alpha}')\n",
    "plt.legend()\n",
    "plt.show()"
   ]
  },
  {
   "cell_type": "code",
   "execution_count": 78,
   "metadata": {},
   "outputs": [
    {
     "data": {
      "text/plain": [
       "Lasso(alpha=3.5938136638046256e-05, max_iter=2000, random_state=42)"
      ]
     },
     "execution_count": 78,
     "metadata": {},
     "output_type": "execute_result"
    }
   ],
   "source": [
    "# Fit the Lasso model\n",
    "lasso = Lasso(alpha=best_alpha, random_state=42, max_iter=2000)\n",
    "lasso.fit(X_train_preprocessed, y_train)"
   ]
  },
  {
   "cell_type": "code",
   "execution_count": 79,
   "metadata": {},
   "outputs": [],
   "source": [
    "# Get the coefficients from the Lasso model\n",
    "coef = lasso.coef_"
   ]
  },
  {
   "cell_type": "code",
   "execution_count": 80,
   "metadata": {},
   "outputs": [
    {
     "name": "stdout",
     "output_type": "stream",
     "text": [
      "Starting Features: 284\n",
      "\n",
      "Selected Features: 222\n"
     ]
    }
   ],
   "source": [
    "lasso_selected_features = X_train_preprocessed.columns[coef != 0]\n",
    "print(f\"Starting Features: {X_train_preprocessed.shape[1]}\")\n",
    "print()\n",
    "print(f\"Selected Features: {len(lasso_selected_features)}\")"
   ]
  },
  {
   "cell_type": "markdown",
   "metadata": {},
   "source": [
    "Lasso Regression set the coefficient of 62 features to 0 indicating that these features are not considered important for predicting the target variable."
   ]
  },
  {
   "cell_type": "markdown",
   "metadata": {},
   "source": [
    "## Lasso Features: Logistic Regression"
   ]
  },
  {
   "cell_type": "code",
   "execution_count": 81,
   "metadata": {},
   "outputs": [],
   "source": [
    "lasso_logistic_model_df = wells_df.copy()\n",
    "\n",
    "X_train, X_test, y_train, y_test = split_data(lasso_logistic_model_df, 'status_group')"
   ]
  },
  {
   "cell_type": "code",
   "execution_count": 82,
   "metadata": {},
   "outputs": [],
   "source": [
    "lasso_logistic_model = LogisticRegression(random_state=42, max_iter=2000)"
   ]
  },
  {
   "cell_type": "code",
   "execution_count": 83,
   "metadata": {},
   "outputs": [],
   "source": [
    "lasso_logistic_cv = CustomCrossValidator(\n",
    "    model=lasso_logistic_model,\n",
    "    X=X_train,\n",
    "    y=y_train,\n",
    ")"
   ]
  },
  {
   "cell_type": "code",
   "execution_count": 84,
   "metadata": {},
   "outputs": [
    {
     "name": "stdout",
     "output_type": "stream",
     "text": [
      "Running cross-validation with sampling method: oversample\n",
      "\n",
      "Running cross-validation with sampling method: undersample\n",
      "\n",
      "Running cross-validation with sampling method: smote\n",
      "\n",
      "Log: {('LogisticRegression', 'base', 'oversample'): 0.7043794944655426, ('LogisticRegression', 'base', 'undersample'): 0.7032904517477562, ('LogisticRegression', 'base', 'smote'): 0.7011659423295937, ('DecisionTreeClassifier', 'base', 'oversample'): 0.5150329468026201, ('DecisionTreeClassifier', 'base', 'undersample'): 0.5310489564026828, ('DecisionTreeClassifier', 'base', 'smote'): 0.5393838624465799, ('LogisticRegression', 'LassoRegression', 'oversample'): 0.7042706510250216, ('LogisticRegression', 'LassoRegression', 'undersample'): 0.703290555606001, ('LogisticRegression', 'LassoRegression', 'smote'): 0.7020921204826858}\n"
     ]
    }
   ],
   "source": [
    "lasso_logistic_cv.run_sampling_methods(\n",
    "    sampling_methods, \n",
    "    features=lasso_selected_features, \n",
    "    folds=5,\n",
    "    features_from='LassoRegression'\n",
    ")"
   ]
  },
  {
   "cell_type": "markdown",
   "metadata": {},
   "source": [
    "## Lasso Features: Decision Tree"
   ]
  },
  {
   "cell_type": "code",
   "execution_count": 85,
   "metadata": {},
   "outputs": [],
   "source": [
    "lasso_dt_model_df = wells_df.copy()\n",
    "\n",
    "X_train, X_test, y_train, y_test = split_data(lasso_dt_model_df, 'status_group')"
   ]
  },
  {
   "cell_type": "code",
   "execution_count": 86,
   "metadata": {},
   "outputs": [],
   "source": [
    "lasso_dt_model = DecisionTreeClassifier(random_state=42, max_depth=5, min_samples_split=20, min_samples_leaf=10)"
   ]
  },
  {
   "cell_type": "code",
   "execution_count": 87,
   "metadata": {},
   "outputs": [],
   "source": [
    "lasso_dt_cv = CustomCrossValidator(\n",
    "    model=lasso_dt_model,\n",
    "    X=X_train,\n",
    "    y=y_train,\n",
    ")"
   ]
  },
  {
   "cell_type": "code",
   "execution_count": 88,
   "metadata": {},
   "outputs": [
    {
     "name": "stdout",
     "output_type": "stream",
     "text": [
      "Running cross-validation with sampling method: oversample\n",
      "\n",
      "Running cross-validation with sampling method: undersample\n",
      "\n",
      "Running cross-validation with sampling method: smote\n",
      "\n",
      "Log: {('LogisticRegression', 'base', 'oversample'): 0.7043794944655426, ('LogisticRegression', 'base', 'undersample'): 0.7032904517477562, ('LogisticRegression', 'base', 'smote'): 0.7011659423295937, ('DecisionTreeClassifier', 'base', 'oversample'): 0.5150329468026201, ('DecisionTreeClassifier', 'base', 'undersample'): 0.5310489564026828, ('DecisionTreeClassifier', 'base', 'smote'): 0.5393838624465799, ('LogisticRegression', 'LassoRegression', 'oversample'): 0.7042706510250216, ('LogisticRegression', 'LassoRegression', 'undersample'): 0.703290555606001, ('LogisticRegression', 'LassoRegression', 'smote'): 0.7020921204826858, ('DecisionTreeClassifier', 'LassoRegression', 'oversample'): 0.5163946025760406, ('DecisionTreeClassifier', 'LassoRegression', 'undersample'): 0.534045563502195, ('DecisionTreeClassifier', 'LassoRegression', 'smote'): 0.538948088088409}\n"
     ]
    }
   ],
   "source": [
    "lasso_dt_cv.run_sampling_methods(\n",
    "    sampling_methods, \n",
    "    features=lasso_selected_features, \n",
    "    folds=5,\n",
    "    features_from='LassoRegression'\n",
    ")"
   ]
  },
  {
   "cell_type": "markdown",
   "metadata": {},
   "source": [
    "# VIF: Feature Selection"
   ]
  },
  {
   "cell_type": "code",
   "execution_count": 89,
   "metadata": {},
   "outputs": [],
   "source": [
    "vif_df = wells_df.copy()"
   ]
  },
  {
   "cell_type": "markdown",
   "metadata": {},
   "source": [
    "## Feature Selection"
   ]
  },
  {
   "cell_type": "code",
   "execution_count": 90,
   "metadata": {},
   "outputs": [],
   "source": [
    "# Split the data\n",
    "X_train, X_test, y_train, y_test = split_data(vif_df, target='status_group')\n",
    "\n",
    "# Scale numeric features\n",
    "X_train_numeric_scaled, X_test_numeric_scaled = scale_numeric_features(X_train, X_test)\n",
    "\n",
    "# Encode categorical features\n",
    "X_train_encoded, X_test_encoded = encode_categorical_features(X_train, X_test)\n",
    "\n",
    "# Combine numeric and categorical features\n",
    "X_train_preprocessed = combine_features(X_train_numeric_scaled, X_train_encoded)\n",
    "X_test_preprocessed = combine_features(X_test_numeric_scaled, X_test_encoded)"
   ]
  },
  {
   "cell_type": "code",
   "execution_count": 91,
   "metadata": {},
   "outputs": [],
   "source": [
    "# Remove features with variance below 1%\n",
    "selector = VarianceThreshold(threshold=0.01)\n",
    "X_train_reduced_df = selector.fit_transform(X_train_preprocessed)\n",
    "\n",
    "# Get the selected feature names\n",
    "selected_features = X_train_preprocessed.columns[selector.get_support()]\n",
    "\n",
    "# Create a new DataFrame with selected features\n",
    "X_train_reduced_df = pd.DataFrame(X_train_reduced_df, columns=selected_features)"
   ]
  },
  {
   "cell_type": "code",
   "execution_count": 92,
   "metadata": {},
   "outputs": [
    {
     "data": {
      "text/plain": [
       "(40299, 234)"
      ]
     },
     "execution_count": 92,
     "metadata": {},
     "output_type": "execute_result"
    }
   ],
   "source": [
    "X_train_reduced_df.shape"
   ]
  },
  {
   "cell_type": "code",
   "execution_count": 93,
   "metadata": {},
   "outputs": [
    {
     "name": "stderr",
     "output_type": "stream",
     "text": [
      "/opt/anaconda3/envs/learn-env/lib/python3.8/site-packages/statsmodels/stats/outliers_influence.py:193: RuntimeWarning: divide by zero encountered in double_scalars\n",
      "  vif = 1. / (1. - r_squared_i)\n"
     ]
    },
    {
     "name": "stdout",
     "output_type": "stream",
     "text": [
      "                                      feature        VIF\n",
      "0                                  amount_tsh   1.326252\n",
      "1                                  gps_height  11.058491\n",
      "2                                   longitude  90.910726\n",
      "3                                    latitude  94.372529\n",
      "4                                  population   1.224808\n",
      "..                                        ...        ...\n",
      "229                   waterpoint_type_unknown        inf\n",
      "230  waterpoint_type_group_communal standpipe        inf\n",
      "231           waterpoint_type_group_hand pump        inf\n",
      "232     waterpoint_type_group_improved spring        inf\n",
      "233             waterpoint_type_group_unknown        inf\n",
      "\n",
      "[234 rows x 2 columns]\n"
     ]
    }
   ],
   "source": [
    "# Function to calculate VIF\n",
    "def calculate_vif(df):\n",
    "    vif_data = pd.DataFrame()\n",
    "    vif_data['feature'] = df.columns\n",
    "    vif_data['VIF'] = [variance_inflation_factor(df.values, i) for i in range(df.shape[1])]\n",
    "    return vif_data\n",
    "\n",
    "# Apply VIF calculation on reduced DataFrame\n",
    "vif_data_reduced = calculate_vif(X_train_reduced_df)\n",
    "\n",
    "vif_data_reduced"
   ]
  },
  {
   "cell_type": "code",
   "execution_count": 94,
   "metadata": {},
   "outputs": [],
   "source": [
    "vif_under_10 = vif_data_reduced[vif_data_reduced['VIF'] < 10]"
   ]
  },
  {
   "cell_type": "code",
   "execution_count": 95,
   "metadata": {},
   "outputs": [
    {
     "data": {
      "text/plain": [
       "43"
      ]
     },
     "execution_count": 95,
     "metadata": {},
     "output_type": "execute_result"
    }
   ],
   "source": [
    "vif_selected_features = list(vif_under_10['feature'])\n",
    "\n",
    "len(vif_selected_features)"
   ]
  },
  {
   "cell_type": "markdown",
   "metadata": {},
   "source": [
    "## VIF Features: Logistic Regression"
   ]
  },
  {
   "cell_type": "code",
   "execution_count": 96,
   "metadata": {},
   "outputs": [],
   "source": [
    "vif_logistic_model_df = wells_df.copy()\n",
    "\n",
    "X_train, X_test, y_train, y_test = split_data(vif_logistic_model_df, 'status_group')"
   ]
  },
  {
   "cell_type": "code",
   "execution_count": 97,
   "metadata": {},
   "outputs": [],
   "source": [
    "vif_logistic_model = LogisticRegression(random_state=42, max_iter=2000)"
   ]
  },
  {
   "cell_type": "code",
   "execution_count": 98,
   "metadata": {},
   "outputs": [],
   "source": [
    "vif_logistic_cv = CustomCrossValidator(\n",
    "    model=vif_logistic_model,\n",
    "    X=X_train,\n",
    "    y=y_train,\n",
    ")"
   ]
  },
  {
   "cell_type": "code",
   "execution_count": 99,
   "metadata": {},
   "outputs": [
    {
     "name": "stdout",
     "output_type": "stream",
     "text": [
      "Running cross-validation with sampling method: oversample\n",
      "\n",
      "Running cross-validation with sampling method: undersample\n",
      "\n",
      "Running cross-validation with sampling method: smote\n",
      "\n",
      "Log: {('LogisticRegression', 'base', 'oversample'): 0.7043794944655426, ('LogisticRegression', 'base', 'undersample'): 0.7032904517477562, ('LogisticRegression', 'base', 'smote'): 0.7011659423295937, ('DecisionTreeClassifier', 'base', 'oversample'): 0.5150329468026201, ('DecisionTreeClassifier', 'base', 'undersample'): 0.5310489564026828, ('DecisionTreeClassifier', 'base', 'smote'): 0.5393838624465799, ('LogisticRegression', 'LassoRegression', 'oversample'): 0.7042706510250216, ('LogisticRegression', 'LassoRegression', 'undersample'): 0.703290555606001, ('LogisticRegression', 'LassoRegression', 'smote'): 0.7020921204826858, ('DecisionTreeClassifier', 'LassoRegression', 'oversample'): 0.5163946025760406, ('DecisionTreeClassifier', 'LassoRegression', 'undersample'): 0.534045563502195, ('DecisionTreeClassifier', 'LassoRegression', 'smote'): 0.538948088088409, ('LogisticRegression', 'VIF', 'oversample'): 0.6806304373500361, ('LogisticRegression', 'VIF', 'undersample'): 0.6832991788076954, ('LogisticRegression', 'VIF', 'smote'): 0.6713702433665739}\n"
     ]
    }
   ],
   "source": [
    "vif_logistic_cv.run_sampling_methods(\n",
    "    sampling_methods, \n",
    "    features=vif_selected_features, \n",
    "    folds=5,\n",
    "    features_from='VIF'\n",
    ")"
   ]
  },
  {
   "cell_type": "markdown",
   "metadata": {},
   "source": [
    "## VIF Features: Decision Tree"
   ]
  },
  {
   "cell_type": "code",
   "execution_count": 100,
   "metadata": {},
   "outputs": [],
   "source": [
    "vif_dt_model_df = wells_df.copy()\n",
    "\n",
    "X_train, X_test, y_train, y_test = split_data(vif_dt_model_df, 'status_group')"
   ]
  },
  {
   "cell_type": "code",
   "execution_count": 101,
   "metadata": {},
   "outputs": [],
   "source": [
    "vif_dt_model = DecisionTreeClassifier(random_state=42, max_depth=5, min_samples_split=20, min_samples_leaf=10)"
   ]
  },
  {
   "cell_type": "code",
   "execution_count": 102,
   "metadata": {},
   "outputs": [],
   "source": [
    "vif_dt_cv = CustomCrossValidator(\n",
    "    model=vif_dt_model,\n",
    "    X=X_train,\n",
    "    y=y_train,\n",
    ")"
   ]
  },
  {
   "cell_type": "code",
   "execution_count": 103,
   "metadata": {},
   "outputs": [
    {
     "name": "stdout",
     "output_type": "stream",
     "text": [
      "Running cross-validation with sampling method: oversample\n",
      "\n",
      "Running cross-validation with sampling method: undersample\n",
      "\n",
      "Running cross-validation with sampling method: smote\n",
      "\n",
      "Log: {('LogisticRegression', 'base', 'oversample'): 0.7043794944655426, ('LogisticRegression', 'base', 'undersample'): 0.7032904517477562, ('LogisticRegression', 'base', 'smote'): 0.7011659423295937, ('DecisionTreeClassifier', 'base', 'oversample'): 0.5150329468026201, ('DecisionTreeClassifier', 'base', 'undersample'): 0.5310489564026828, ('DecisionTreeClassifier', 'base', 'smote'): 0.5393838624465799, ('LogisticRegression', 'LassoRegression', 'oversample'): 0.7042706510250216, ('LogisticRegression', 'LassoRegression', 'undersample'): 0.703290555606001, ('LogisticRegression', 'LassoRegression', 'smote'): 0.7020921204826858, ('DecisionTreeClassifier', 'LassoRegression', 'oversample'): 0.5163946025760406, ('DecisionTreeClassifier', 'LassoRegression', 'undersample'): 0.534045563502195, ('DecisionTreeClassifier', 'LassoRegression', 'smote'): 0.538948088088409, ('LogisticRegression', 'VIF', 'oversample'): 0.6806304373500361, ('LogisticRegression', 'VIF', 'undersample'): 0.6832991788076954, ('LogisticRegression', 'VIF', 'smote'): 0.6713702433665739, ('DecisionTreeClassifier', 'VIF', 'oversample'): 0.7701797459805376, ('DecisionTreeClassifier', 'VIF', 'undersample'): 0.767510559416115, ('DecisionTreeClassifier', 'VIF', 'smote'): 0.768382701608141}\n"
     ]
    }
   ],
   "source": [
    "vif_dt_cv.run_sampling_methods(\n",
    "    sampling_methods, \n",
    "    features=vif_selected_features, \n",
    "    folds=5,\n",
    "    features_from='VIF'\n",
    ")"
   ]
  },
  {
   "cell_type": "markdown",
   "metadata": {},
   "source": [
    "# Current Model Results"
   ]
  },
  {
   "cell_type": "code",
   "execution_count": 106,
   "metadata": {},
   "outputs": [],
   "source": [
    "def get_log_results_df():\n",
    "    # Extracting the log dictionary\n",
    "    log_dict = vif_dt_cv.log\n",
    "    \n",
    "    # Initialize an empty list to store the rows\n",
    "    log_list = []\n",
    "    \n",
    "    # Iterate over the log dictionary and append each entry as a tuple to the list\n",
    "    for key, value in log_dict.items():\n",
    "        model, feature_selection, sampling = key\n",
    "        score = value\n",
    "        log_list.append((model, feature_selection, sampling, score))\n",
    "    \n",
    "    # Convert the list to a DataFrame\n",
    "    log_df = pd.DataFrame(log_list, columns=['Model', 'Feature Selection', 'Sampling Technique', 'Recall-Score'])\n",
    "    \n",
    "    return log_df"
   ]
  },
  {
   "cell_type": "code",
   "execution_count": 135,
   "metadata": {},
   "outputs": [
    {
     "data": {
      "text/html": [
       "<div>\n",
       "<style scoped>\n",
       "    .dataframe tbody tr th:only-of-type {\n",
       "        vertical-align: middle;\n",
       "    }\n",
       "\n",
       "    .dataframe tbody tr th {\n",
       "        vertical-align: top;\n",
       "    }\n",
       "\n",
       "    .dataframe thead th {\n",
       "        text-align: right;\n",
       "    }\n",
       "</style>\n",
       "<table border=\"1\" class=\"dataframe\">\n",
       "  <thead>\n",
       "    <tr style=\"text-align: right;\">\n",
       "      <th></th>\n",
       "      <th>Model</th>\n",
       "      <th>Feature Selection</th>\n",
       "      <th>Sampling Technique</th>\n",
       "      <th>Recall-Score</th>\n",
       "    </tr>\n",
       "  </thead>\n",
       "  <tbody>\n",
       "    <tr>\n",
       "      <th>15</th>\n",
       "      <td>DecisionTreeClassifier</td>\n",
       "      <td>VIF</td>\n",
       "      <td>oversample</td>\n",
       "      <td>0.770180</td>\n",
       "    </tr>\n",
       "    <tr>\n",
       "      <th>17</th>\n",
       "      <td>DecisionTreeClassifier</td>\n",
       "      <td>VIF</td>\n",
       "      <td>smote</td>\n",
       "      <td>0.768383</td>\n",
       "    </tr>\n",
       "    <tr>\n",
       "      <th>16</th>\n",
       "      <td>DecisionTreeClassifier</td>\n",
       "      <td>VIF</td>\n",
       "      <td>undersample</td>\n",
       "      <td>0.767511</td>\n",
       "    </tr>\n",
       "    <tr>\n",
       "      <th>0</th>\n",
       "      <td>LogisticRegression</td>\n",
       "      <td>base</td>\n",
       "      <td>oversample</td>\n",
       "      <td>0.704379</td>\n",
       "    </tr>\n",
       "    <tr>\n",
       "      <th>6</th>\n",
       "      <td>LogisticRegression</td>\n",
       "      <td>LassoRegression</td>\n",
       "      <td>oversample</td>\n",
       "      <td>0.704271</td>\n",
       "    </tr>\n",
       "    <tr>\n",
       "      <th>7</th>\n",
       "      <td>LogisticRegression</td>\n",
       "      <td>LassoRegression</td>\n",
       "      <td>undersample</td>\n",
       "      <td>0.703291</td>\n",
       "    </tr>\n",
       "    <tr>\n",
       "      <th>1</th>\n",
       "      <td>LogisticRegression</td>\n",
       "      <td>base</td>\n",
       "      <td>undersample</td>\n",
       "      <td>0.703290</td>\n",
       "    </tr>\n",
       "    <tr>\n",
       "      <th>18</th>\n",
       "      <td>LogisticRegression</td>\n",
       "      <td>dimensionality_reduction</td>\n",
       "      <td>oversample</td>\n",
       "      <td>0.703072</td>\n",
       "    </tr>\n",
       "    <tr>\n",
       "      <th>8</th>\n",
       "      <td>LogisticRegression</td>\n",
       "      <td>LassoRegression</td>\n",
       "      <td>smote</td>\n",
       "      <td>0.702092</td>\n",
       "    </tr>\n",
       "    <tr>\n",
       "      <th>19</th>\n",
       "      <td>LogisticRegression</td>\n",
       "      <td>dimensionality_reduction</td>\n",
       "      <td>undersample</td>\n",
       "      <td>0.701656</td>\n",
       "    </tr>\n",
       "    <tr>\n",
       "      <th>2</th>\n",
       "      <td>LogisticRegression</td>\n",
       "      <td>base</td>\n",
       "      <td>smote</td>\n",
       "      <td>0.701166</td>\n",
       "    </tr>\n",
       "    <tr>\n",
       "      <th>20</th>\n",
       "      <td>LogisticRegression</td>\n",
       "      <td>dimensionality_reduction</td>\n",
       "      <td>smote</td>\n",
       "      <td>0.699586</td>\n",
       "    </tr>\n",
       "    <tr>\n",
       "      <th>13</th>\n",
       "      <td>LogisticRegression</td>\n",
       "      <td>VIF</td>\n",
       "      <td>undersample</td>\n",
       "      <td>0.683299</td>\n",
       "    </tr>\n",
       "    <tr>\n",
       "      <th>12</th>\n",
       "      <td>LogisticRegression</td>\n",
       "      <td>VIF</td>\n",
       "      <td>oversample</td>\n",
       "      <td>0.680630</td>\n",
       "    </tr>\n",
       "    <tr>\n",
       "      <th>14</th>\n",
       "      <td>LogisticRegression</td>\n",
       "      <td>VIF</td>\n",
       "      <td>smote</td>\n",
       "      <td>0.671370</td>\n",
       "    </tr>\n",
       "    <tr>\n",
       "      <th>5</th>\n",
       "      <td>DecisionTreeClassifier</td>\n",
       "      <td>base</td>\n",
       "      <td>smote</td>\n",
       "      <td>0.539384</td>\n",
       "    </tr>\n",
       "    <tr>\n",
       "      <th>23</th>\n",
       "      <td>DecisionTreeClassifier</td>\n",
       "      <td>dimensionality_reduction</td>\n",
       "      <td>smote</td>\n",
       "      <td>0.539329</td>\n",
       "    </tr>\n",
       "    <tr>\n",
       "      <th>11</th>\n",
       "      <td>DecisionTreeClassifier</td>\n",
       "      <td>LassoRegression</td>\n",
       "      <td>smote</td>\n",
       "      <td>0.538948</td>\n",
       "    </tr>\n",
       "    <tr>\n",
       "      <th>10</th>\n",
       "      <td>DecisionTreeClassifier</td>\n",
       "      <td>LassoRegression</td>\n",
       "      <td>undersample</td>\n",
       "      <td>0.534046</td>\n",
       "    </tr>\n",
       "    <tr>\n",
       "      <th>22</th>\n",
       "      <td>DecisionTreeClassifier</td>\n",
       "      <td>dimensionality_reduction</td>\n",
       "      <td>undersample</td>\n",
       "      <td>0.531103</td>\n",
       "    </tr>\n",
       "    <tr>\n",
       "      <th>4</th>\n",
       "      <td>DecisionTreeClassifier</td>\n",
       "      <td>base</td>\n",
       "      <td>undersample</td>\n",
       "      <td>0.531049</td>\n",
       "    </tr>\n",
       "    <tr>\n",
       "      <th>9</th>\n",
       "      <td>DecisionTreeClassifier</td>\n",
       "      <td>LassoRegression</td>\n",
       "      <td>oversample</td>\n",
       "      <td>0.516395</td>\n",
       "    </tr>\n",
       "    <tr>\n",
       "      <th>3</th>\n",
       "      <td>DecisionTreeClassifier</td>\n",
       "      <td>base</td>\n",
       "      <td>oversample</td>\n",
       "      <td>0.515033</td>\n",
       "    </tr>\n",
       "    <tr>\n",
       "      <th>21</th>\n",
       "      <td>DecisionTreeClassifier</td>\n",
       "      <td>dimensionality_reduction</td>\n",
       "      <td>oversample</td>\n",
       "      <td>0.515033</td>\n",
       "    </tr>\n",
       "  </tbody>\n",
       "</table>\n",
       "</div>"
      ],
      "text/plain": [
       "                     Model         Feature Selection Sampling Technique  \\\n",
       "15  DecisionTreeClassifier                       VIF         oversample   \n",
       "17  DecisionTreeClassifier                       VIF              smote   \n",
       "16  DecisionTreeClassifier                       VIF        undersample   \n",
       "0       LogisticRegression                      base         oversample   \n",
       "6       LogisticRegression           LassoRegression         oversample   \n",
       "7       LogisticRegression           LassoRegression        undersample   \n",
       "1       LogisticRegression                      base        undersample   \n",
       "18      LogisticRegression  dimensionality_reduction         oversample   \n",
       "8       LogisticRegression           LassoRegression              smote   \n",
       "19      LogisticRegression  dimensionality_reduction        undersample   \n",
       "2       LogisticRegression                      base              smote   \n",
       "20      LogisticRegression  dimensionality_reduction              smote   \n",
       "13      LogisticRegression                       VIF        undersample   \n",
       "12      LogisticRegression                       VIF         oversample   \n",
       "14      LogisticRegression                       VIF              smote   \n",
       "5   DecisionTreeClassifier                      base              smote   \n",
       "23  DecisionTreeClassifier  dimensionality_reduction              smote   \n",
       "11  DecisionTreeClassifier           LassoRegression              smote   \n",
       "10  DecisionTreeClassifier           LassoRegression        undersample   \n",
       "22  DecisionTreeClassifier  dimensionality_reduction        undersample   \n",
       "4   DecisionTreeClassifier                      base        undersample   \n",
       "9   DecisionTreeClassifier           LassoRegression         oversample   \n",
       "3   DecisionTreeClassifier                      base         oversample   \n",
       "21  DecisionTreeClassifier  dimensionality_reduction         oversample   \n",
       "\n",
       "    Recall-Score  \n",
       "15      0.770180  \n",
       "17      0.768383  \n",
       "16      0.767511  \n",
       "0       0.704379  \n",
       "6       0.704271  \n",
       "7       0.703291  \n",
       "1       0.703290  \n",
       "18      0.703072  \n",
       "8       0.702092  \n",
       "19      0.701656  \n",
       "2       0.701166  \n",
       "20      0.699586  \n",
       "13      0.683299  \n",
       "12      0.680630  \n",
       "14      0.671370  \n",
       "5       0.539384  \n",
       "23      0.539329  \n",
       "11      0.538948  \n",
       "10      0.534046  \n",
       "22      0.531103  \n",
       "4       0.531049  \n",
       "9       0.516395  \n",
       "3       0.515033  \n",
       "21      0.515033  "
      ]
     },
     "execution_count": 135,
     "metadata": {},
     "output_type": "execute_result"
    }
   ],
   "source": [
    "log_df = get_log_results_df()\n",
    "log_df.sort_values(by='Recall-Score', ascending=False)"
   ]
  },
  {
   "cell_type": "markdown",
   "metadata": {},
   "source": [
    "So far, the best model is the base model with undersampling to account for the class imbalance. \n",
    "\n",
    "We were hoping that either the VIF or Lasso feature selection would result in a better model but it has not. \n",
    "\n",
    "It is worth noting that the base decision tree given that there is no max depth set the model is most likley overfitting. \n",
    "\n",
    "However, we would like to perform dimensionality reduction on like-columns to determine if we can get better scores. "
   ]
  },
  {
   "cell_type": "markdown",
   "metadata": {},
   "source": [
    "# Dimensionality Reduction"
   ]
  },
  {
   "cell_type": "markdown",
   "metadata": {},
   "source": [
    "Various columns contain similar information. While these columns are not a equal in every regard, they are similar enough as to where our models may perform better if we removed these features. We had originally kept these features as we thought having the extra data points inside of these features would be helpful for classification. \n",
    "\n",
    "If the columns contain over 80% of shared row values, we will drop a column. \n",
    "\n",
    "We will be comparing the following features:\n",
    "\n",
    "- 'scheme_management' and 'management'\n",
    "- 'region' and 'region_code'\n",
    "- 'extraction_type' and 'extraction_type_group'\n",
    "- 'water_quality' and 'quality_group'\n",
    "- 'source' and 'source_type'\n",
    "- 'waterpoint_type' and 'waterpoint_type_group'"
   ]
  },
  {
   "cell_type": "code",
   "execution_count": 108,
   "metadata": {},
   "outputs": [],
   "source": [
    "def get_shared_values_percentage(df, pairs):\n",
    "    \"\"\"\n",
    "    Calculates the percentage of shared values between pairs of columns in a DataFrame. \n",
    "    \n",
    "    Return a dictionary with the shared values percentage.\n",
    "    ---\n",
    "    Input:\n",
    "    df: Pandas DataFrame\n",
    "    pairs : A list of tuples\n",
    "    ---\n",
    "    Output:\n",
    "    dict: A dictionary \n",
    "    \"\"\"\n",
    "    result = {}\n",
    "    \n",
    "    for column1, column2 in pairs:\n",
    "        # Create a new DataFrame with only the two specified columns\n",
    "        df_subset = df[[column1, column2]].copy()\n",
    "        \n",
    "        # Create a new column that indicates if the values in the two columns are the same\n",
    "        df_subset['is_same'] = df_subset[column1] == df_subset[column2]\n",
    "    \n",
    "        # Count the number of shared values (where the values are the same in both columns)\n",
    "        shared_values_count = df_subset['is_same'].sum()\n",
    "    \n",
    "        # Calculate the percentage of shared values\n",
    "        shared_values_percentage = (shared_values_count / len(df_subset)) * 100\n",
    "        \n",
    "        # Store the result in the dictionary\n",
    "        result[(column1, column2)] = shared_values_percentage\n",
    "    \n",
    "    return result"
   ]
  },
  {
   "cell_type": "code",
   "execution_count": 109,
   "metadata": {},
   "outputs": [],
   "source": [
    "# Define the list of column pairs to compare\n",
    "pairs = [\n",
    "    ('scheme_management', 'management'),\n",
    "    ('extraction_type', 'extraction_type_group'),\n",
    "    ('water_quality', 'quality_group'),\n",
    "    ('source', 'source_type'),\n",
    "    ('waterpoint_type', 'waterpoint_type_group')\n",
    "]"
   ]
  },
  {
   "cell_type": "code",
   "execution_count": 110,
   "metadata": {},
   "outputs": [
    {
     "data": {
      "text/plain": [
       "{('scheme_management', 'management'): 83.8909154073302,\n",
       " ('extraction_type', 'extraction_type_group'): 96.64929650859823,\n",
       " ('water_quality', 'quality_group'): 12.914712523883967,\n",
       " ('source', 'source_type'): 61.902032308494,\n",
       " ('waterpoint_type', 'waterpoint_type_group'): 89.65085982282439}"
      ]
     },
     "execution_count": 110,
     "metadata": {},
     "output_type": "execute_result"
    }
   ],
   "source": [
    "# Calculate shared values percentages for each pair\n",
    "results = get_shared_values_percentage(wells_df, pairs)\n",
    "results"
   ]
  },
  {
   "cell_type": "markdown",
   "metadata": {},
   "source": [
    "Given the results above, we will take a closer look at the following pairs:\n",
    "\n",
    "- 'scheme_management' and 'management'\n",
    "- 'extraction_type' and 'extraction_type_group'\n",
    "- 'waterpoint_type' and 'waterpoint_type_group'\n",
    "\n",
    "We will also take a look at 'region' and 'region_code' seperately as while the values are not the same, they contain similar information. "
   ]
  },
  {
   "cell_type": "markdown",
   "metadata": {},
   "source": [
    "## 'scheme_management' and 'management'"
   ]
  },
  {
   "cell_type": "code",
   "execution_count": 111,
   "metadata": {},
   "outputs": [
    {
     "data": {
      "text/plain": [
       "vwc                 36140\n",
       "unknown              4516\n",
       "wug                  4248\n",
       "water authority      3150\n",
       "wua                  2872\n",
       "water board          2747\n",
       "parastatal           1605\n",
       "private operator     1063\n",
       "company              1060\n",
       "swc                    97\n",
       "trust                  72\n",
       "Name: scheme_management, dtype: int64"
      ]
     },
     "execution_count": 111,
     "metadata": {},
     "output_type": "execute_result"
    }
   ],
   "source": [
    "wells_df['scheme_management'].value_counts()"
   ]
  },
  {
   "cell_type": "code",
   "execution_count": 112,
   "metadata": {},
   "outputs": [
    {
     "data": {
      "text/plain": [
       "vwc                 39743\n",
       "wug                  5554\n",
       "water board          2932\n",
       "wua                  2526\n",
       "private operator     1969\n",
       "parastatal           1691\n",
       "unknown              1391\n",
       "water authority       902\n",
       "company               685\n",
       "school                 99\n",
       "trust                  78\n",
       "Name: management, dtype: int64"
      ]
     },
     "execution_count": 112,
     "metadata": {},
     "output_type": "execute_result"
    }
   ],
   "source": [
    "wells_df['management'].value_counts()"
   ]
  },
  {
   "cell_type": "markdown",
   "metadata": {},
   "source": [
    "Since management has fewer unknown values, we will drop the 'scheme_management' column from the DataFrame. "
   ]
  },
  {
   "cell_type": "markdown",
   "metadata": {},
   "source": [
    "## 'extraction_type' and 'extraction_type_group'"
   ]
  },
  {
   "cell_type": "code",
   "execution_count": 113,
   "metadata": {},
   "outputs": [
    {
     "data": {
      "text/plain": [
       "gravity              26687\n",
       "nira/tanira           7361\n",
       "unknown               6160\n",
       "submersible           4687\n",
       "swn 80                3447\n",
       "mono                  2815\n",
       "india mark ii         2283\n",
       "afridev               1659\n",
       "ksb                   1354\n",
       "rope pump              451\n",
       "swn 81                 229\n",
       "windmill               117\n",
       "india mark iii          91\n",
       "cemo                    90\n",
       "play pump               85\n",
       "climax                  32\n",
       "walimi                  20\n",
       "mkulima/shinyanga        2\n",
       "Name: extraction_type, dtype: int64"
      ]
     },
     "execution_count": 113,
     "metadata": {},
     "output_type": "execute_result"
    }
   ],
   "source": [
    "wells_df['extraction_type'].value_counts()"
   ]
  },
  {
   "cell_type": "code",
   "execution_count": 114,
   "metadata": {},
   "outputs": [
    {
     "data": {
      "text/plain": [
       "gravity            26687\n",
       "nira/tanira         7361\n",
       "unknown             6160\n",
       "submersible         6041\n",
       "swn 80              3447\n",
       "mono                2815\n",
       "india mark ii       2283\n",
       "afridev             1659\n",
       "rope pump            451\n",
       "other handpump       336\n",
       "other motorpump      122\n",
       "wind-powered         117\n",
       "india mark iii        91\n",
       "Name: extraction_type_group, dtype: int64"
      ]
     },
     "execution_count": 114,
     "metadata": {},
     "output_type": "execute_result"
    }
   ],
   "source": [
    "wells_df['extraction_type_group'].value_counts()"
   ]
  },
  {
   "cell_type": "markdown",
   "metadata": {},
   "source": [
    "Since the 'extration_type' column is more specific than 'extraction_type_group', we will be dropping 'extraction_type_group' from the DataFrame. "
   ]
  },
  {
   "cell_type": "markdown",
   "metadata": {},
   "source": [
    "## 'waterpoint_type' and 'waterpoint_type_group'"
   ]
  },
  {
   "cell_type": "code",
   "execution_count": 115,
   "metadata": {},
   "outputs": [
    {
     "data": {
      "text/plain": [
       "communal standpipe             28360\n",
       "hand pump                      16179\n",
       "unknown                         6167\n",
       "communal standpipe multiple     5958\n",
       "improved spring                  783\n",
       "cattle trough                    116\n",
       "dam                                7\n",
       "Name: waterpoint_type, dtype: int64"
      ]
     },
     "execution_count": 115,
     "metadata": {},
     "output_type": "execute_result"
    }
   ],
   "source": [
    "wells_df['waterpoint_type'].value_counts()"
   ]
  },
  {
   "cell_type": "code",
   "execution_count": 116,
   "metadata": {},
   "outputs": [
    {
     "data": {
      "text/plain": [
       "communal standpipe    34318\n",
       "hand pump             16179\n",
       "unknown                6167\n",
       "improved spring         783\n",
       "cattle trough           116\n",
       "dam                       7\n",
       "Name: waterpoint_type_group, dtype: int64"
      ]
     },
     "execution_count": 116,
     "metadata": {},
     "output_type": "execute_result"
    }
   ],
   "source": [
    "wells_df['waterpoint_type_group'].value_counts()"
   ]
  },
  {
   "cell_type": "markdown",
   "metadata": {},
   "source": [
    "Since the 'waterpoint_type' column is more specific than 'waterpoint_type_group', we will be dropping 'waterpoint_type_group' from the DataFrame. "
   ]
  },
  {
   "cell_type": "markdown",
   "metadata": {},
   "source": [
    "## 'region' and 'region_code'"
   ]
  },
  {
   "cell_type": "code",
   "execution_count": 117,
   "metadata": {},
   "outputs": [
    {
     "data": {
      "text/plain": [
       "21"
      ]
     },
     "execution_count": 117,
     "metadata": {},
     "output_type": "execute_result"
    }
   ],
   "source": [
    "len(wells_df['region'].value_counts())"
   ]
  },
  {
   "cell_type": "code",
   "execution_count": 118,
   "metadata": {},
   "outputs": [
    {
     "data": {
      "text/plain": [
       "27"
      ]
     },
     "execution_count": 118,
     "metadata": {},
     "output_type": "execute_result"
    }
   ],
   "source": [
    "len(wells_df['region_code'].value_counts())"
   ]
  },
  {
   "cell_type": "markdown",
   "metadata": {},
   "source": [
    "Since the 'region_code' contains more values than the region, we will be dropping 'region' from the DataFrame."
   ]
  },
  {
   "cell_type": "markdown",
   "metadata": {},
   "source": [
    "## Dropping columns"
   ]
  },
  {
   "cell_type": "code",
   "execution_count": 119,
   "metadata": {},
   "outputs": [],
   "source": [
    "dimensionality_reduction_df = wells_df.copy()"
   ]
  },
  {
   "cell_type": "code",
   "execution_count": 120,
   "metadata": {},
   "outputs": [],
   "source": [
    "dimensionality_reduction_df.drop(['scheme_management','extraction_type_group', 'waterpoint_type_group', 'region'], axis=1, inplace=True)"
   ]
  },
  {
   "cell_type": "code",
   "execution_count": 121,
   "metadata": {},
   "outputs": [
    {
     "name": "stdout",
     "output_type": "stream",
     "text": [
      "<class 'pandas.core.frame.DataFrame'>\n",
      "Int64Index: 57570 entries, 69572 to 26348\n",
      "Data columns (total 30 columns):\n",
      " #   Column                 Non-Null Count  Dtype  \n",
      "---  ------                 --------------  -----  \n",
      " 0   status_group           57570 non-null  int64  \n",
      " 1   amount_tsh             57570 non-null  float64\n",
      " 2   funder                 57570 non-null  object \n",
      " 3   gps_height             57570 non-null  int64  \n",
      " 4   installer              57570 non-null  object \n",
      " 5   longitude              57570 non-null  float64\n",
      " 6   latitude               57570 non-null  float64\n",
      " 7   wpt_name               57570 non-null  object \n",
      " 8   basin                  57570 non-null  object \n",
      " 9   subvillage             57570 non-null  object \n",
      " 10  region_code            57570 non-null  object \n",
      " 11  district_code          57570 non-null  object \n",
      " 12  lga                    57570 non-null  object \n",
      " 13  ward                   57570 non-null  object \n",
      " 14  population             57570 non-null  int64  \n",
      " 15  scheme_name            57570 non-null  object \n",
      " 16  permit                 57570 non-null  object \n",
      " 17  construction_year      57570 non-null  int64  \n",
      " 18  extraction_type        57570 non-null  object \n",
      " 19  extraction_type_class  57570 non-null  object \n",
      " 20  management             57570 non-null  object \n",
      " 21  management_group       57570 non-null  object \n",
      " 22  payment                57570 non-null  object \n",
      " 23  water_quality          57570 non-null  object \n",
      " 24  quality_group          57570 non-null  object \n",
      " 25  quantity               57570 non-null  object \n",
      " 26  source                 57570 non-null  object \n",
      " 27  source_type            57570 non-null  object \n",
      " 28  source_class           57570 non-null  object \n",
      " 29  waterpoint_type        57570 non-null  object \n",
      "dtypes: float64(3), int64(4), object(23)\n",
      "memory usage: 13.6+ MB\n"
     ]
    }
   ],
   "source": [
    "dimensionality_reduction_df.info()"
   ]
  },
  {
   "cell_type": "markdown",
   "metadata": {},
   "source": [
    "# Dimensionality Reduction: Logistic Model"
   ]
  },
  {
   "cell_type": "code",
   "execution_count": 122,
   "metadata": {},
   "outputs": [],
   "source": [
    "dim_reduct_logistic_model_df = dimensionality_reduction_df.copy()"
   ]
  },
  {
   "cell_type": "code",
   "execution_count": 123,
   "metadata": {},
   "outputs": [],
   "source": [
    "X_train, X_test, y_train, y_test = split_data(dim_reduct_logistic_model_df, 'status_group')"
   ]
  },
  {
   "cell_type": "code",
   "execution_count": 124,
   "metadata": {},
   "outputs": [],
   "source": [
    "dim_reduct_logistic_model = LogisticRegression(random_state=42, max_iter=2000)"
   ]
  },
  {
   "cell_type": "code",
   "execution_count": 125,
   "metadata": {},
   "outputs": [],
   "source": [
    "dim_reduct_log_cv = CustomCrossValidator(dim_reduct_logistic_model, X_train, y_train)"
   ]
  },
  {
   "cell_type": "code",
   "execution_count": 126,
   "metadata": {},
   "outputs": [
    {
     "name": "stdout",
     "output_type": "stream",
     "text": [
      "Running cross-validation with sampling method: oversample\n",
      "\n",
      "Running cross-validation with sampling method: undersample\n",
      "\n",
      "Running cross-validation with sampling method: smote\n",
      "\n",
      "Log: {('LogisticRegression', 'base', 'oversample'): 0.7043794944655426, ('LogisticRegression', 'base', 'undersample'): 0.7032904517477562, ('LogisticRegression', 'base', 'smote'): 0.7011659423295937, ('DecisionTreeClassifier', 'base', 'oversample'): 0.5150329468026201, ('DecisionTreeClassifier', 'base', 'undersample'): 0.5310489564026828, ('DecisionTreeClassifier', 'base', 'smote'): 0.5393838624465799, ('LogisticRegression', 'LassoRegression', 'oversample'): 0.7042706510250216, ('LogisticRegression', 'LassoRegression', 'undersample'): 0.703290555606001, ('LogisticRegression', 'LassoRegression', 'smote'): 0.7020921204826858, ('DecisionTreeClassifier', 'LassoRegression', 'oversample'): 0.5163946025760406, ('DecisionTreeClassifier', 'LassoRegression', 'undersample'): 0.534045563502195, ('DecisionTreeClassifier', 'LassoRegression', 'smote'): 0.538948088088409, ('LogisticRegression', 'VIF', 'oversample'): 0.6806304373500361, ('LogisticRegression', 'VIF', 'undersample'): 0.6832991788076954, ('LogisticRegression', 'VIF', 'smote'): 0.6713702433665739, ('DecisionTreeClassifier', 'VIF', 'oversample'): 0.7701797459805376, ('DecisionTreeClassifier', 'VIF', 'undersample'): 0.767510559416115, ('DecisionTreeClassifier', 'VIF', 'smote'): 0.768382701608141, ('LogisticRegression', 'dimensionality_reduction', 'oversample'): 0.7030721120434614, ('LogisticRegression', 'dimensionality_reduction', 'undersample'): 0.7016560790604568, ('LogisticRegression', 'dimensionality_reduction', 'smote'): 0.6995859765256629}\n"
     ]
    }
   ],
   "source": [
    "dim_reduct_log_cv.run_sampling_methods(sampling_methods, features=None, features_from='dimensionality_reduction', folds=5)"
   ]
  },
  {
   "cell_type": "markdown",
   "metadata": {},
   "source": [
    "# Dimensionality Reduction: Decision Tree "
   ]
  },
  {
   "cell_type": "code",
   "execution_count": 127,
   "metadata": {},
   "outputs": [],
   "source": [
    "dim_reduct_dt_model_df = dimensionality_reduction_df.copy()"
   ]
  },
  {
   "cell_type": "code",
   "execution_count": 128,
   "metadata": {},
   "outputs": [],
   "source": [
    "X_train, X_test, y_train, y_test = split_data(dim_reduct_dt_model_df, 'status_group')"
   ]
  },
  {
   "cell_type": "code",
   "execution_count": 129,
   "metadata": {},
   "outputs": [],
   "source": [
    "dim_reduct_dt_model = DecisionTreeClassifier(random_state=42, max_depth=5, min_samples_split=20, min_samples_leaf=10)"
   ]
  },
  {
   "cell_type": "code",
   "execution_count": 130,
   "metadata": {},
   "outputs": [],
   "source": [
    "dim_reduct_dt_cv = CustomCrossValidator(dim_reduct_dt_model, X_train, y_train)"
   ]
  },
  {
   "cell_type": "code",
   "execution_count": 131,
   "metadata": {},
   "outputs": [
    {
     "name": "stdout",
     "output_type": "stream",
     "text": [
      "Running cross-validation with sampling method: oversample\n",
      "\n",
      "Running cross-validation with sampling method: undersample\n",
      "\n",
      "Running cross-validation with sampling method: smote\n",
      "\n",
      "Log: {('LogisticRegression', 'base', 'oversample'): 0.7043794944655426, ('LogisticRegression', 'base', 'undersample'): 0.7032904517477562, ('LogisticRegression', 'base', 'smote'): 0.7011659423295937, ('DecisionTreeClassifier', 'base', 'oversample'): 0.5150329468026201, ('DecisionTreeClassifier', 'base', 'undersample'): 0.5310489564026828, ('DecisionTreeClassifier', 'base', 'smote'): 0.5393838624465799, ('LogisticRegression', 'LassoRegression', 'oversample'): 0.7042706510250216, ('LogisticRegression', 'LassoRegression', 'undersample'): 0.703290555606001, ('LogisticRegression', 'LassoRegression', 'smote'): 0.7020921204826858, ('DecisionTreeClassifier', 'LassoRegression', 'oversample'): 0.5163946025760406, ('DecisionTreeClassifier', 'LassoRegression', 'undersample'): 0.534045563502195, ('DecisionTreeClassifier', 'LassoRegression', 'smote'): 0.538948088088409, ('LogisticRegression', 'VIF', 'oversample'): 0.6806304373500361, ('LogisticRegression', 'VIF', 'undersample'): 0.6832991788076954, ('LogisticRegression', 'VIF', 'smote'): 0.6713702433665739, ('DecisionTreeClassifier', 'VIF', 'oversample'): 0.7701797459805376, ('DecisionTreeClassifier', 'VIF', 'undersample'): 0.767510559416115, ('DecisionTreeClassifier', 'VIF', 'smote'): 0.768382701608141, ('LogisticRegression', 'dimensionality_reduction', 'oversample'): 0.7030721120434614, ('LogisticRegression', 'dimensionality_reduction', 'undersample'): 0.7016560790604568, ('LogisticRegression', 'dimensionality_reduction', 'smote'): 0.6995859765256629, ('DecisionTreeClassifier', 'dimensionality_reduction', 'oversample'): 0.5150329468026201, ('DecisionTreeClassifier', 'dimensionality_reduction', 'undersample'): 0.5311034374705116, ('DecisionTreeClassifier', 'dimensionality_reduction', 'smote'): 0.5393293813787509}\n"
     ]
    }
   ],
   "source": [
    "dim_reduct_dt_cv.run_sampling_methods(sampling_methods, features=None, features_from='dimensionality_reduction', folds=5)"
   ]
  },
  {
   "cell_type": "markdown",
   "metadata": {},
   "source": [
    "# Review Model Results"
   ]
  },
  {
   "cell_type": "code",
   "execution_count": 134,
   "metadata": {},
   "outputs": [
    {
     "data": {
      "text/html": [
       "<div>\n",
       "<style scoped>\n",
       "    .dataframe tbody tr th:only-of-type {\n",
       "        vertical-align: middle;\n",
       "    }\n",
       "\n",
       "    .dataframe tbody tr th {\n",
       "        vertical-align: top;\n",
       "    }\n",
       "\n",
       "    .dataframe thead th {\n",
       "        text-align: right;\n",
       "    }\n",
       "</style>\n",
       "<table border=\"1\" class=\"dataframe\">\n",
       "  <thead>\n",
       "    <tr style=\"text-align: right;\">\n",
       "      <th></th>\n",
       "      <th>Model</th>\n",
       "      <th>Feature Selection</th>\n",
       "      <th>Sampling Technique</th>\n",
       "      <th>Recall-Score</th>\n",
       "    </tr>\n",
       "  </thead>\n",
       "  <tbody>\n",
       "    <tr>\n",
       "      <th>15</th>\n",
       "      <td>DecisionTreeClassifier</td>\n",
       "      <td>VIF</td>\n",
       "      <td>oversample</td>\n",
       "      <td>0.770180</td>\n",
       "    </tr>\n",
       "    <tr>\n",
       "      <th>17</th>\n",
       "      <td>DecisionTreeClassifier</td>\n",
       "      <td>VIF</td>\n",
       "      <td>smote</td>\n",
       "      <td>0.768383</td>\n",
       "    </tr>\n",
       "    <tr>\n",
       "      <th>16</th>\n",
       "      <td>DecisionTreeClassifier</td>\n",
       "      <td>VIF</td>\n",
       "      <td>undersample</td>\n",
       "      <td>0.767511</td>\n",
       "    </tr>\n",
       "    <tr>\n",
       "      <th>0</th>\n",
       "      <td>LogisticRegression</td>\n",
       "      <td>base</td>\n",
       "      <td>oversample</td>\n",
       "      <td>0.704379</td>\n",
       "    </tr>\n",
       "    <tr>\n",
       "      <th>6</th>\n",
       "      <td>LogisticRegression</td>\n",
       "      <td>LassoRegression</td>\n",
       "      <td>oversample</td>\n",
       "      <td>0.704271</td>\n",
       "    </tr>\n",
       "    <tr>\n",
       "      <th>7</th>\n",
       "      <td>LogisticRegression</td>\n",
       "      <td>LassoRegression</td>\n",
       "      <td>undersample</td>\n",
       "      <td>0.703291</td>\n",
       "    </tr>\n",
       "    <tr>\n",
       "      <th>1</th>\n",
       "      <td>LogisticRegression</td>\n",
       "      <td>base</td>\n",
       "      <td>undersample</td>\n",
       "      <td>0.703290</td>\n",
       "    </tr>\n",
       "    <tr>\n",
       "      <th>18</th>\n",
       "      <td>LogisticRegression</td>\n",
       "      <td>dimensionality_reduction</td>\n",
       "      <td>oversample</td>\n",
       "      <td>0.703072</td>\n",
       "    </tr>\n",
       "    <tr>\n",
       "      <th>8</th>\n",
       "      <td>LogisticRegression</td>\n",
       "      <td>LassoRegression</td>\n",
       "      <td>smote</td>\n",
       "      <td>0.702092</td>\n",
       "    </tr>\n",
       "    <tr>\n",
       "      <th>19</th>\n",
       "      <td>LogisticRegression</td>\n",
       "      <td>dimensionality_reduction</td>\n",
       "      <td>undersample</td>\n",
       "      <td>0.701656</td>\n",
       "    </tr>\n",
       "    <tr>\n",
       "      <th>2</th>\n",
       "      <td>LogisticRegression</td>\n",
       "      <td>base</td>\n",
       "      <td>smote</td>\n",
       "      <td>0.701166</td>\n",
       "    </tr>\n",
       "    <tr>\n",
       "      <th>20</th>\n",
       "      <td>LogisticRegression</td>\n",
       "      <td>dimensionality_reduction</td>\n",
       "      <td>smote</td>\n",
       "      <td>0.699586</td>\n",
       "    </tr>\n",
       "    <tr>\n",
       "      <th>13</th>\n",
       "      <td>LogisticRegression</td>\n",
       "      <td>VIF</td>\n",
       "      <td>undersample</td>\n",
       "      <td>0.683299</td>\n",
       "    </tr>\n",
       "    <tr>\n",
       "      <th>12</th>\n",
       "      <td>LogisticRegression</td>\n",
       "      <td>VIF</td>\n",
       "      <td>oversample</td>\n",
       "      <td>0.680630</td>\n",
       "    </tr>\n",
       "    <tr>\n",
       "      <th>14</th>\n",
       "      <td>LogisticRegression</td>\n",
       "      <td>VIF</td>\n",
       "      <td>smote</td>\n",
       "      <td>0.671370</td>\n",
       "    </tr>\n",
       "    <tr>\n",
       "      <th>5</th>\n",
       "      <td>DecisionTreeClassifier</td>\n",
       "      <td>base</td>\n",
       "      <td>smote</td>\n",
       "      <td>0.539384</td>\n",
       "    </tr>\n",
       "    <tr>\n",
       "      <th>23</th>\n",
       "      <td>DecisionTreeClassifier</td>\n",
       "      <td>dimensionality_reduction</td>\n",
       "      <td>smote</td>\n",
       "      <td>0.539329</td>\n",
       "    </tr>\n",
       "    <tr>\n",
       "      <th>11</th>\n",
       "      <td>DecisionTreeClassifier</td>\n",
       "      <td>LassoRegression</td>\n",
       "      <td>smote</td>\n",
       "      <td>0.538948</td>\n",
       "    </tr>\n",
       "    <tr>\n",
       "      <th>10</th>\n",
       "      <td>DecisionTreeClassifier</td>\n",
       "      <td>LassoRegression</td>\n",
       "      <td>undersample</td>\n",
       "      <td>0.534046</td>\n",
       "    </tr>\n",
       "    <tr>\n",
       "      <th>22</th>\n",
       "      <td>DecisionTreeClassifier</td>\n",
       "      <td>dimensionality_reduction</td>\n",
       "      <td>undersample</td>\n",
       "      <td>0.531103</td>\n",
       "    </tr>\n",
       "    <tr>\n",
       "      <th>4</th>\n",
       "      <td>DecisionTreeClassifier</td>\n",
       "      <td>base</td>\n",
       "      <td>undersample</td>\n",
       "      <td>0.531049</td>\n",
       "    </tr>\n",
       "    <tr>\n",
       "      <th>9</th>\n",
       "      <td>DecisionTreeClassifier</td>\n",
       "      <td>LassoRegression</td>\n",
       "      <td>oversample</td>\n",
       "      <td>0.516395</td>\n",
       "    </tr>\n",
       "    <tr>\n",
       "      <th>3</th>\n",
       "      <td>DecisionTreeClassifier</td>\n",
       "      <td>base</td>\n",
       "      <td>oversample</td>\n",
       "      <td>0.515033</td>\n",
       "    </tr>\n",
       "    <tr>\n",
       "      <th>21</th>\n",
       "      <td>DecisionTreeClassifier</td>\n",
       "      <td>dimensionality_reduction</td>\n",
       "      <td>oversample</td>\n",
       "      <td>0.515033</td>\n",
       "    </tr>\n",
       "  </tbody>\n",
       "</table>\n",
       "</div>"
      ],
      "text/plain": [
       "                     Model         Feature Selection Sampling Technique  \\\n",
       "15  DecisionTreeClassifier                       VIF         oversample   \n",
       "17  DecisionTreeClassifier                       VIF              smote   \n",
       "16  DecisionTreeClassifier                       VIF        undersample   \n",
       "0       LogisticRegression                      base         oversample   \n",
       "6       LogisticRegression           LassoRegression         oversample   \n",
       "7       LogisticRegression           LassoRegression        undersample   \n",
       "1       LogisticRegression                      base        undersample   \n",
       "18      LogisticRegression  dimensionality_reduction         oversample   \n",
       "8       LogisticRegression           LassoRegression              smote   \n",
       "19      LogisticRegression  dimensionality_reduction        undersample   \n",
       "2       LogisticRegression                      base              smote   \n",
       "20      LogisticRegression  dimensionality_reduction              smote   \n",
       "13      LogisticRegression                       VIF        undersample   \n",
       "12      LogisticRegression                       VIF         oversample   \n",
       "14      LogisticRegression                       VIF              smote   \n",
       "5   DecisionTreeClassifier                      base              smote   \n",
       "23  DecisionTreeClassifier  dimensionality_reduction              smote   \n",
       "11  DecisionTreeClassifier           LassoRegression              smote   \n",
       "10  DecisionTreeClassifier           LassoRegression        undersample   \n",
       "22  DecisionTreeClassifier  dimensionality_reduction        undersample   \n",
       "4   DecisionTreeClassifier                      base        undersample   \n",
       "9   DecisionTreeClassifier           LassoRegression         oversample   \n",
       "3   DecisionTreeClassifier                      base         oversample   \n",
       "21  DecisionTreeClassifier  dimensionality_reduction         oversample   \n",
       "\n",
       "    Recall-Score  \n",
       "15      0.770180  \n",
       "17      0.768383  \n",
       "16      0.767511  \n",
       "0       0.704379  \n",
       "6       0.704271  \n",
       "7       0.703291  \n",
       "1       0.703290  \n",
       "18      0.703072  \n",
       "8       0.702092  \n",
       "19      0.701656  \n",
       "2       0.701166  \n",
       "20      0.699586  \n",
       "13      0.683299  \n",
       "12      0.680630  \n",
       "14      0.671370  \n",
       "5       0.539384  \n",
       "23      0.539329  \n",
       "11      0.538948  \n",
       "10      0.534046  \n",
       "22      0.531103  \n",
       "4       0.531049  \n",
       "9       0.516395  \n",
       "3       0.515033  \n",
       "21      0.515033  "
      ]
     },
     "execution_count": 134,
     "metadata": {},
     "output_type": "execute_result"
    }
   ],
   "source": [
    "log_df = get_log_results_df()\n",
    "log_df.sort_values(by='Recall-Score', ascending=False)"
   ]
  },
  {
   "cell_type": "markdown",
   "metadata": {},
   "source": [
    "Since we have two different models, we will hyper-parameter tune the best two types of models to determine which is the best classifier. \n",
    "\n",
    "We will hyper-parameter tune the following models to determine which model performs best on the validation fold. \n",
    "- DecisionTree - VIF - Oversampling\n",
    "- LogisiticRegression - base - Oversampling\n",
    "\n",
    "Once determined, we will run the best model on the test data. "
   ]
  },
  {
   "cell_type": "code",
   "execution_count": null,
   "metadata": {},
   "outputs": [],
   "source": []
  },
  {
   "cell_type": "code",
   "execution_count": null,
   "metadata": {},
   "outputs": [],
   "source": []
  }
 ],
 "metadata": {
  "kernelspec": {
   "display_name": "Python 3",
   "language": "python",
   "name": "python3"
  },
  "language_info": {
   "codemirror_mode": {
    "name": "ipython",
    "version": 3
   },
   "file_extension": ".py",
   "mimetype": "text/x-python",
   "name": "python",
   "nbconvert_exporter": "python",
   "pygments_lexer": "ipython3",
   "version": "3.8.5"
  }
 },
 "nbformat": 4,
 "nbformat_minor": 4
}
